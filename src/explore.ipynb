{
    "cells": [
        {
            "cell_type": "markdown",
            "metadata": {},
            "source": [
                "# Tutorial de Proyecto de Regresión Logística"
            ]
        },
        {
            "cell_type": "markdown",
            "metadata": {},
            "source": [
                "## Paso 1: Recopilación de datos"
            ]
        },
        {
            "cell_type": "code",
            "execution_count": 2,
            "metadata": {},
            "outputs": [
                {
                    "data": {
                        "application/vnd.microsoft.datawrangler.viewer.v0+json": {
                            "columns": [
                                {
                                    "name": "index",
                                    "rawType": "int64",
                                    "type": "integer"
                                },
                                {
                                    "name": "age",
                                    "rawType": "int64",
                                    "type": "integer"
                                },
                                {
                                    "name": "job",
                                    "rawType": "object",
                                    "type": "string"
                                },
                                {
                                    "name": "marital",
                                    "rawType": "object",
                                    "type": "string"
                                },
                                {
                                    "name": "education",
                                    "rawType": "object",
                                    "type": "string"
                                },
                                {
                                    "name": "default",
                                    "rawType": "object",
                                    "type": "string"
                                },
                                {
                                    "name": "housing",
                                    "rawType": "object",
                                    "type": "string"
                                },
                                {
                                    "name": "loan",
                                    "rawType": "object",
                                    "type": "string"
                                },
                                {
                                    "name": "contact",
                                    "rawType": "object",
                                    "type": "string"
                                },
                                {
                                    "name": "month",
                                    "rawType": "object",
                                    "type": "string"
                                },
                                {
                                    "name": "day_of_week",
                                    "rawType": "object",
                                    "type": "string"
                                },
                                {
                                    "name": "duration",
                                    "rawType": "int64",
                                    "type": "integer"
                                },
                                {
                                    "name": "campaign",
                                    "rawType": "int64",
                                    "type": "integer"
                                },
                                {
                                    "name": "pdays",
                                    "rawType": "int64",
                                    "type": "integer"
                                },
                                {
                                    "name": "previous",
                                    "rawType": "int64",
                                    "type": "integer"
                                },
                                {
                                    "name": "poutcome",
                                    "rawType": "object",
                                    "type": "string"
                                },
                                {
                                    "name": "emp.var.rate",
                                    "rawType": "float64",
                                    "type": "float"
                                },
                                {
                                    "name": "cons.price.idx",
                                    "rawType": "float64",
                                    "type": "float"
                                },
                                {
                                    "name": "cons.conf.idx",
                                    "rawType": "float64",
                                    "type": "float"
                                },
                                {
                                    "name": "euribor3m",
                                    "rawType": "float64",
                                    "type": "float"
                                },
                                {
                                    "name": "nr.employed",
                                    "rawType": "float64",
                                    "type": "float"
                                },
                                {
                                    "name": "y",
                                    "rawType": "object",
                                    "type": "string"
                                }
                            ],
                            "conversionMethod": "pd.DataFrame",
                            "ref": "9667046e-2552-4cb1-94a9-6122c2ae7c6e",
                            "rows": [
                                [
                                    "0",
                                    "56",
                                    "housemaid",
                                    "married",
                                    "basic.4y",
                                    "no",
                                    "no",
                                    "no",
                                    "telephone",
                                    "may",
                                    "mon",
                                    "261",
                                    "1",
                                    "999",
                                    "0",
                                    "nonexistent",
                                    "1.1",
                                    "93.994",
                                    "-36.4",
                                    "4.857",
                                    "5191.0",
                                    "no"
                                ],
                                [
                                    "1",
                                    "57",
                                    "services",
                                    "married",
                                    "high.school",
                                    "unknown",
                                    "no",
                                    "no",
                                    "telephone",
                                    "may",
                                    "mon",
                                    "149",
                                    "1",
                                    "999",
                                    "0",
                                    "nonexistent",
                                    "1.1",
                                    "93.994",
                                    "-36.4",
                                    "4.857",
                                    "5191.0",
                                    "no"
                                ],
                                [
                                    "2",
                                    "37",
                                    "services",
                                    "married",
                                    "high.school",
                                    "no",
                                    "yes",
                                    "no",
                                    "telephone",
                                    "may",
                                    "mon",
                                    "226",
                                    "1",
                                    "999",
                                    "0",
                                    "nonexistent",
                                    "1.1",
                                    "93.994",
                                    "-36.4",
                                    "4.857",
                                    "5191.0",
                                    "no"
                                ],
                                [
                                    "3",
                                    "40",
                                    "admin.",
                                    "married",
                                    "basic.6y",
                                    "no",
                                    "no",
                                    "no",
                                    "telephone",
                                    "may",
                                    "mon",
                                    "151",
                                    "1",
                                    "999",
                                    "0",
                                    "nonexistent",
                                    "1.1",
                                    "93.994",
                                    "-36.4",
                                    "4.857",
                                    "5191.0",
                                    "no"
                                ],
                                [
                                    "4",
                                    "56",
                                    "services",
                                    "married",
                                    "high.school",
                                    "no",
                                    "no",
                                    "yes",
                                    "telephone",
                                    "may",
                                    "mon",
                                    "307",
                                    "1",
                                    "999",
                                    "0",
                                    "nonexistent",
                                    "1.1",
                                    "93.994",
                                    "-36.4",
                                    "4.857",
                                    "5191.0",
                                    "no"
                                ]
                            ],
                            "shape": {
                                "columns": 21,
                                "rows": 5
                            }
                        },
                        "text/html": [
                            "<div>\n",
                            "<style scoped>\n",
                            "    .dataframe tbody tr th:only-of-type {\n",
                            "        vertical-align: middle;\n",
                            "    }\n",
                            "\n",
                            "    .dataframe tbody tr th {\n",
                            "        vertical-align: top;\n",
                            "    }\n",
                            "\n",
                            "    .dataframe thead th {\n",
                            "        text-align: right;\n",
                            "    }\n",
                            "</style>\n",
                            "<table border=\"1\" class=\"dataframe\">\n",
                            "  <thead>\n",
                            "    <tr style=\"text-align: right;\">\n",
                            "      <th></th>\n",
                            "      <th>age</th>\n",
                            "      <th>job</th>\n",
                            "      <th>marital</th>\n",
                            "      <th>education</th>\n",
                            "      <th>default</th>\n",
                            "      <th>housing</th>\n",
                            "      <th>loan</th>\n",
                            "      <th>contact</th>\n",
                            "      <th>month</th>\n",
                            "      <th>day_of_week</th>\n",
                            "      <th>...</th>\n",
                            "      <th>campaign</th>\n",
                            "      <th>pdays</th>\n",
                            "      <th>previous</th>\n",
                            "      <th>poutcome</th>\n",
                            "      <th>emp.var.rate</th>\n",
                            "      <th>cons.price.idx</th>\n",
                            "      <th>cons.conf.idx</th>\n",
                            "      <th>euribor3m</th>\n",
                            "      <th>nr.employed</th>\n",
                            "      <th>y</th>\n",
                            "    </tr>\n",
                            "  </thead>\n",
                            "  <tbody>\n",
                            "    <tr>\n",
                            "      <th>0</th>\n",
                            "      <td>56</td>\n",
                            "      <td>housemaid</td>\n",
                            "      <td>married</td>\n",
                            "      <td>basic.4y</td>\n",
                            "      <td>no</td>\n",
                            "      <td>no</td>\n",
                            "      <td>no</td>\n",
                            "      <td>telephone</td>\n",
                            "      <td>may</td>\n",
                            "      <td>mon</td>\n",
                            "      <td>...</td>\n",
                            "      <td>1</td>\n",
                            "      <td>999</td>\n",
                            "      <td>0</td>\n",
                            "      <td>nonexistent</td>\n",
                            "      <td>1.1</td>\n",
                            "      <td>93.994</td>\n",
                            "      <td>-36.4</td>\n",
                            "      <td>4.857</td>\n",
                            "      <td>5191.0</td>\n",
                            "      <td>no</td>\n",
                            "    </tr>\n",
                            "    <tr>\n",
                            "      <th>1</th>\n",
                            "      <td>57</td>\n",
                            "      <td>services</td>\n",
                            "      <td>married</td>\n",
                            "      <td>high.school</td>\n",
                            "      <td>unknown</td>\n",
                            "      <td>no</td>\n",
                            "      <td>no</td>\n",
                            "      <td>telephone</td>\n",
                            "      <td>may</td>\n",
                            "      <td>mon</td>\n",
                            "      <td>...</td>\n",
                            "      <td>1</td>\n",
                            "      <td>999</td>\n",
                            "      <td>0</td>\n",
                            "      <td>nonexistent</td>\n",
                            "      <td>1.1</td>\n",
                            "      <td>93.994</td>\n",
                            "      <td>-36.4</td>\n",
                            "      <td>4.857</td>\n",
                            "      <td>5191.0</td>\n",
                            "      <td>no</td>\n",
                            "    </tr>\n",
                            "    <tr>\n",
                            "      <th>2</th>\n",
                            "      <td>37</td>\n",
                            "      <td>services</td>\n",
                            "      <td>married</td>\n",
                            "      <td>high.school</td>\n",
                            "      <td>no</td>\n",
                            "      <td>yes</td>\n",
                            "      <td>no</td>\n",
                            "      <td>telephone</td>\n",
                            "      <td>may</td>\n",
                            "      <td>mon</td>\n",
                            "      <td>...</td>\n",
                            "      <td>1</td>\n",
                            "      <td>999</td>\n",
                            "      <td>0</td>\n",
                            "      <td>nonexistent</td>\n",
                            "      <td>1.1</td>\n",
                            "      <td>93.994</td>\n",
                            "      <td>-36.4</td>\n",
                            "      <td>4.857</td>\n",
                            "      <td>5191.0</td>\n",
                            "      <td>no</td>\n",
                            "    </tr>\n",
                            "    <tr>\n",
                            "      <th>3</th>\n",
                            "      <td>40</td>\n",
                            "      <td>admin.</td>\n",
                            "      <td>married</td>\n",
                            "      <td>basic.6y</td>\n",
                            "      <td>no</td>\n",
                            "      <td>no</td>\n",
                            "      <td>no</td>\n",
                            "      <td>telephone</td>\n",
                            "      <td>may</td>\n",
                            "      <td>mon</td>\n",
                            "      <td>...</td>\n",
                            "      <td>1</td>\n",
                            "      <td>999</td>\n",
                            "      <td>0</td>\n",
                            "      <td>nonexistent</td>\n",
                            "      <td>1.1</td>\n",
                            "      <td>93.994</td>\n",
                            "      <td>-36.4</td>\n",
                            "      <td>4.857</td>\n",
                            "      <td>5191.0</td>\n",
                            "      <td>no</td>\n",
                            "    </tr>\n",
                            "    <tr>\n",
                            "      <th>4</th>\n",
                            "      <td>56</td>\n",
                            "      <td>services</td>\n",
                            "      <td>married</td>\n",
                            "      <td>high.school</td>\n",
                            "      <td>no</td>\n",
                            "      <td>no</td>\n",
                            "      <td>yes</td>\n",
                            "      <td>telephone</td>\n",
                            "      <td>may</td>\n",
                            "      <td>mon</td>\n",
                            "      <td>...</td>\n",
                            "      <td>1</td>\n",
                            "      <td>999</td>\n",
                            "      <td>0</td>\n",
                            "      <td>nonexistent</td>\n",
                            "      <td>1.1</td>\n",
                            "      <td>93.994</td>\n",
                            "      <td>-36.4</td>\n",
                            "      <td>4.857</td>\n",
                            "      <td>5191.0</td>\n",
                            "      <td>no</td>\n",
                            "    </tr>\n",
                            "  </tbody>\n",
                            "</table>\n",
                            "<p>5 rows × 21 columns</p>\n",
                            "</div>"
                        ],
                        "text/plain": [
                            "   age        job  marital    education  default housing loan    contact  \\\n",
                            "0   56  housemaid  married     basic.4y       no      no   no  telephone   \n",
                            "1   57   services  married  high.school  unknown      no   no  telephone   \n",
                            "2   37   services  married  high.school       no     yes   no  telephone   \n",
                            "3   40     admin.  married     basic.6y       no      no   no  telephone   \n",
                            "4   56   services  married  high.school       no      no  yes  telephone   \n",
                            "\n",
                            "  month day_of_week  ...  campaign  pdays  previous     poutcome emp.var.rate  \\\n",
                            "0   may         mon  ...         1    999         0  nonexistent          1.1   \n",
                            "1   may         mon  ...         1    999         0  nonexistent          1.1   \n",
                            "2   may         mon  ...         1    999         0  nonexistent          1.1   \n",
                            "3   may         mon  ...         1    999         0  nonexistent          1.1   \n",
                            "4   may         mon  ...         1    999         0  nonexistent          1.1   \n",
                            "\n",
                            "   cons.price.idx  cons.conf.idx  euribor3m  nr.employed   y  \n",
                            "0          93.994          -36.4      4.857       5191.0  no  \n",
                            "1          93.994          -36.4      4.857       5191.0  no  \n",
                            "2          93.994          -36.4      4.857       5191.0  no  \n",
                            "3          93.994          -36.4      4.857       5191.0  no  \n",
                            "4          93.994          -36.4      4.857       5191.0  no  \n",
                            "\n",
                            "[5 rows x 21 columns]"
                        ]
                    },
                    "execution_count": 2,
                    "metadata": {},
                    "output_type": "execute_result"
                }
            ],
            "source": [
                "import pandas as pd\n",
                "\n",
                "total_data = pd.read_csv(\"https://raw.githubusercontent.com/4GeeksAcademy/logistic-regression-project-tutorial/main/bank-marketing-campaign-data.csv\", sep = \";\")\n",
                "\n",
                "total_data.head()"
            ]
        },
        {
            "cell_type": "code",
            "execution_count": 3,
            "metadata": {},
            "outputs": [],
            "source": [
                "# Definir la ruta donde se guardará el DataFrame original\n",
                "\n",
                "ruta_data_frame_original = r\"C:/Users/Efrain Almeida/Documents/4Geeks Academy/02 Proyectos/efrainnalmeida-my-first-ml-algorithm/data/raw/total_data.csv\"\n",
                "\n",
                "# Guardar el DataFrame en formato CSV\n",
                "\n",
                "total_data.to_csv(ruta_data_frame_original, index=False, encoding='utf-8')"
            ]
        },
        {
            "cell_type": "code",
            "execution_count": 4,
            "metadata": {},
            "outputs": [
                {
                    "data": {
                        "application/vnd.microsoft.datawrangler.viewer.v0+json": {
                            "columns": [
                                {
                                    "name": "index",
                                    "rawType": "int64",
                                    "type": "integer"
                                },
                                {
                                    "name": "age",
                                    "rawType": "int64",
                                    "type": "integer"
                                },
                                {
                                    "name": "job",
                                    "rawType": "object",
                                    "type": "string"
                                },
                                {
                                    "name": "marital",
                                    "rawType": "object",
                                    "type": "string"
                                },
                                {
                                    "name": "education",
                                    "rawType": "object",
                                    "type": "string"
                                },
                                {
                                    "name": "default",
                                    "rawType": "object",
                                    "type": "string"
                                },
                                {
                                    "name": "housing",
                                    "rawType": "object",
                                    "type": "string"
                                },
                                {
                                    "name": "loan",
                                    "rawType": "object",
                                    "type": "string"
                                },
                                {
                                    "name": "contact",
                                    "rawType": "object",
                                    "type": "string"
                                },
                                {
                                    "name": "month",
                                    "rawType": "object",
                                    "type": "string"
                                },
                                {
                                    "name": "day_of_week",
                                    "rawType": "object",
                                    "type": "string"
                                },
                                {
                                    "name": "duration",
                                    "rawType": "int64",
                                    "type": "integer"
                                },
                                {
                                    "name": "campaign",
                                    "rawType": "int64",
                                    "type": "integer"
                                },
                                {
                                    "name": "pdays",
                                    "rawType": "int64",
                                    "type": "integer"
                                },
                                {
                                    "name": "previous",
                                    "rawType": "int64",
                                    "type": "integer"
                                },
                                {
                                    "name": "poutcome",
                                    "rawType": "object",
                                    "type": "string"
                                },
                                {
                                    "name": "emp.var.rate",
                                    "rawType": "float64",
                                    "type": "float"
                                },
                                {
                                    "name": "cons.price.idx",
                                    "rawType": "float64",
                                    "type": "float"
                                },
                                {
                                    "name": "cons.conf.idx",
                                    "rawType": "float64",
                                    "type": "float"
                                },
                                {
                                    "name": "euribor3m",
                                    "rawType": "float64",
                                    "type": "float"
                                },
                                {
                                    "name": "nr.employed",
                                    "rawType": "float64",
                                    "type": "float"
                                },
                                {
                                    "name": "y",
                                    "rawType": "object",
                                    "type": "string"
                                }
                            ],
                            "conversionMethod": "pd.DataFrame",
                            "ref": "ad1a3f6d-a3de-46e5-a2d3-9ef06ed08b99",
                            "rows": [
                                [
                                    "0",
                                    "56",
                                    "housemaid",
                                    "married",
                                    "basic.4y",
                                    "no",
                                    "no",
                                    "no",
                                    "telephone",
                                    "may",
                                    "mon",
                                    "261",
                                    "1",
                                    "999",
                                    "0",
                                    "nonexistent",
                                    "1.1",
                                    "93.994",
                                    "-36.4",
                                    "4.857",
                                    "5191.0",
                                    "no"
                                ],
                                [
                                    "1",
                                    "57",
                                    "services",
                                    "married",
                                    "high.school",
                                    "unknown",
                                    "no",
                                    "no",
                                    "telephone",
                                    "may",
                                    "mon",
                                    "149",
                                    "1",
                                    "999",
                                    "0",
                                    "nonexistent",
                                    "1.1",
                                    "93.994",
                                    "-36.4",
                                    "4.857",
                                    "5191.0",
                                    "no"
                                ],
                                [
                                    "2",
                                    "37",
                                    "services",
                                    "married",
                                    "high.school",
                                    "no",
                                    "yes",
                                    "no",
                                    "telephone",
                                    "may",
                                    "mon",
                                    "226",
                                    "1",
                                    "999",
                                    "0",
                                    "nonexistent",
                                    "1.1",
                                    "93.994",
                                    "-36.4",
                                    "4.857",
                                    "5191.0",
                                    "no"
                                ],
                                [
                                    "3",
                                    "40",
                                    "admin.",
                                    "married",
                                    "basic.6y",
                                    "no",
                                    "no",
                                    "no",
                                    "telephone",
                                    "may",
                                    "mon",
                                    "151",
                                    "1",
                                    "999",
                                    "0",
                                    "nonexistent",
                                    "1.1",
                                    "93.994",
                                    "-36.4",
                                    "4.857",
                                    "5191.0",
                                    "no"
                                ],
                                [
                                    "4",
                                    "56",
                                    "services",
                                    "married",
                                    "high.school",
                                    "no",
                                    "no",
                                    "yes",
                                    "telephone",
                                    "may",
                                    "mon",
                                    "307",
                                    "1",
                                    "999",
                                    "0",
                                    "nonexistent",
                                    "1.1",
                                    "93.994",
                                    "-36.4",
                                    "4.857",
                                    "5191.0",
                                    "no"
                                ]
                            ],
                            "shape": {
                                "columns": 21,
                                "rows": 5
                            }
                        },
                        "text/html": [
                            "<div>\n",
                            "<style scoped>\n",
                            "    .dataframe tbody tr th:only-of-type {\n",
                            "        vertical-align: middle;\n",
                            "    }\n",
                            "\n",
                            "    .dataframe tbody tr th {\n",
                            "        vertical-align: top;\n",
                            "    }\n",
                            "\n",
                            "    .dataframe thead th {\n",
                            "        text-align: right;\n",
                            "    }\n",
                            "</style>\n",
                            "<table border=\"1\" class=\"dataframe\">\n",
                            "  <thead>\n",
                            "    <tr style=\"text-align: right;\">\n",
                            "      <th></th>\n",
                            "      <th>age</th>\n",
                            "      <th>job</th>\n",
                            "      <th>marital</th>\n",
                            "      <th>education</th>\n",
                            "      <th>default</th>\n",
                            "      <th>housing</th>\n",
                            "      <th>loan</th>\n",
                            "      <th>contact</th>\n",
                            "      <th>month</th>\n",
                            "      <th>day_of_week</th>\n",
                            "      <th>...</th>\n",
                            "      <th>campaign</th>\n",
                            "      <th>pdays</th>\n",
                            "      <th>previous</th>\n",
                            "      <th>poutcome</th>\n",
                            "      <th>emp.var.rate</th>\n",
                            "      <th>cons.price.idx</th>\n",
                            "      <th>cons.conf.idx</th>\n",
                            "      <th>euribor3m</th>\n",
                            "      <th>nr.employed</th>\n",
                            "      <th>y</th>\n",
                            "    </tr>\n",
                            "  </thead>\n",
                            "  <tbody>\n",
                            "    <tr>\n",
                            "      <th>0</th>\n",
                            "      <td>56</td>\n",
                            "      <td>housemaid</td>\n",
                            "      <td>married</td>\n",
                            "      <td>basic.4y</td>\n",
                            "      <td>no</td>\n",
                            "      <td>no</td>\n",
                            "      <td>no</td>\n",
                            "      <td>telephone</td>\n",
                            "      <td>may</td>\n",
                            "      <td>mon</td>\n",
                            "      <td>...</td>\n",
                            "      <td>1</td>\n",
                            "      <td>999</td>\n",
                            "      <td>0</td>\n",
                            "      <td>nonexistent</td>\n",
                            "      <td>1.1</td>\n",
                            "      <td>93.994</td>\n",
                            "      <td>-36.4</td>\n",
                            "      <td>4.857</td>\n",
                            "      <td>5191.0</td>\n",
                            "      <td>no</td>\n",
                            "    </tr>\n",
                            "    <tr>\n",
                            "      <th>1</th>\n",
                            "      <td>57</td>\n",
                            "      <td>services</td>\n",
                            "      <td>married</td>\n",
                            "      <td>high.school</td>\n",
                            "      <td>unknown</td>\n",
                            "      <td>no</td>\n",
                            "      <td>no</td>\n",
                            "      <td>telephone</td>\n",
                            "      <td>may</td>\n",
                            "      <td>mon</td>\n",
                            "      <td>...</td>\n",
                            "      <td>1</td>\n",
                            "      <td>999</td>\n",
                            "      <td>0</td>\n",
                            "      <td>nonexistent</td>\n",
                            "      <td>1.1</td>\n",
                            "      <td>93.994</td>\n",
                            "      <td>-36.4</td>\n",
                            "      <td>4.857</td>\n",
                            "      <td>5191.0</td>\n",
                            "      <td>no</td>\n",
                            "    </tr>\n",
                            "    <tr>\n",
                            "      <th>2</th>\n",
                            "      <td>37</td>\n",
                            "      <td>services</td>\n",
                            "      <td>married</td>\n",
                            "      <td>high.school</td>\n",
                            "      <td>no</td>\n",
                            "      <td>yes</td>\n",
                            "      <td>no</td>\n",
                            "      <td>telephone</td>\n",
                            "      <td>may</td>\n",
                            "      <td>mon</td>\n",
                            "      <td>...</td>\n",
                            "      <td>1</td>\n",
                            "      <td>999</td>\n",
                            "      <td>0</td>\n",
                            "      <td>nonexistent</td>\n",
                            "      <td>1.1</td>\n",
                            "      <td>93.994</td>\n",
                            "      <td>-36.4</td>\n",
                            "      <td>4.857</td>\n",
                            "      <td>5191.0</td>\n",
                            "      <td>no</td>\n",
                            "    </tr>\n",
                            "    <tr>\n",
                            "      <th>3</th>\n",
                            "      <td>40</td>\n",
                            "      <td>admin.</td>\n",
                            "      <td>married</td>\n",
                            "      <td>basic.6y</td>\n",
                            "      <td>no</td>\n",
                            "      <td>no</td>\n",
                            "      <td>no</td>\n",
                            "      <td>telephone</td>\n",
                            "      <td>may</td>\n",
                            "      <td>mon</td>\n",
                            "      <td>...</td>\n",
                            "      <td>1</td>\n",
                            "      <td>999</td>\n",
                            "      <td>0</td>\n",
                            "      <td>nonexistent</td>\n",
                            "      <td>1.1</td>\n",
                            "      <td>93.994</td>\n",
                            "      <td>-36.4</td>\n",
                            "      <td>4.857</td>\n",
                            "      <td>5191.0</td>\n",
                            "      <td>no</td>\n",
                            "    </tr>\n",
                            "    <tr>\n",
                            "      <th>4</th>\n",
                            "      <td>56</td>\n",
                            "      <td>services</td>\n",
                            "      <td>married</td>\n",
                            "      <td>high.school</td>\n",
                            "      <td>no</td>\n",
                            "      <td>no</td>\n",
                            "      <td>yes</td>\n",
                            "      <td>telephone</td>\n",
                            "      <td>may</td>\n",
                            "      <td>mon</td>\n",
                            "      <td>...</td>\n",
                            "      <td>1</td>\n",
                            "      <td>999</td>\n",
                            "      <td>0</td>\n",
                            "      <td>nonexistent</td>\n",
                            "      <td>1.1</td>\n",
                            "      <td>93.994</td>\n",
                            "      <td>-36.4</td>\n",
                            "      <td>4.857</td>\n",
                            "      <td>5191.0</td>\n",
                            "      <td>no</td>\n",
                            "    </tr>\n",
                            "  </tbody>\n",
                            "</table>\n",
                            "<p>5 rows × 21 columns</p>\n",
                            "</div>"
                        ],
                        "text/plain": [
                            "   age        job  marital    education  default housing loan    contact  \\\n",
                            "0   56  housemaid  married     basic.4y       no      no   no  telephone   \n",
                            "1   57   services  married  high.school  unknown      no   no  telephone   \n",
                            "2   37   services  married  high.school       no     yes   no  telephone   \n",
                            "3   40     admin.  married     basic.6y       no      no   no  telephone   \n",
                            "4   56   services  married  high.school       no      no  yes  telephone   \n",
                            "\n",
                            "  month day_of_week  ...  campaign  pdays  previous     poutcome emp.var.rate  \\\n",
                            "0   may         mon  ...         1    999         0  nonexistent          1.1   \n",
                            "1   may         mon  ...         1    999         0  nonexistent          1.1   \n",
                            "2   may         mon  ...         1    999         0  nonexistent          1.1   \n",
                            "3   may         mon  ...         1    999         0  nonexistent          1.1   \n",
                            "4   may         mon  ...         1    999         0  nonexistent          1.1   \n",
                            "\n",
                            "   cons.price.idx  cons.conf.idx  euribor3m  nr.employed   y  \n",
                            "0          93.994          -36.4      4.857       5191.0  no  \n",
                            "1          93.994          -36.4      4.857       5191.0  no  \n",
                            "2          93.994          -36.4      4.857       5191.0  no  \n",
                            "3          93.994          -36.4      4.857       5191.0  no  \n",
                            "4          93.994          -36.4      4.857       5191.0  no  \n",
                            "\n",
                            "[5 rows x 21 columns]"
                        ]
                    },
                    "execution_count": 4,
                    "metadata": {},
                    "output_type": "execute_result"
                }
            ],
            "source": [
                "# Crear una copia del DataFrame original\n",
                "\n",
                "interim_data = total_data.copy()\n",
                "\n",
                "# Verificar que la copia se ha realizado correctamente\n",
                "\n",
                "interim_data.head()"
            ]
        },
        {
            "cell_type": "code",
            "execution_count": 5,
            "metadata": {},
            "outputs": [],
            "source": [
                "# Definir la ruta donde se guardará el DataFrame de datos intermedios\n",
                "\n",
                "ruta_data_frame_intermedio = r\"C:/Users/Efrain Almeida/Documents/4Geeks Academy/02 Proyectos/efrainnalmeida-my-first-ml-algorithm/data/interim/interim_data.csv\"\n",
                "\n",
                "# Guardar el DataFrame en formato CSV\n",
                "\n",
                "interim_data.to_csv(ruta_data_frame_intermedio, index=False, encoding='utf-8')"
            ]
        },
        {
            "cell_type": "markdown",
            "metadata": {},
            "source": [
                "## Paso 2: Exploración y limpieza de datos"
            ]
        },
        {
            "cell_type": "code",
            "execution_count": 6,
            "metadata": {},
            "outputs": [
                {
                    "data": {
                        "text/plain": [
                            "(41188, 21)"
                        ]
                    },
                    "execution_count": 6,
                    "metadata": {},
                    "output_type": "execute_result"
                }
            ],
            "source": [
                "# Obtener las dimensiones\n",
                "\n",
                "interim_data.shape"
            ]
        },
        {
            "cell_type": "markdown",
            "metadata": {},
            "source": [
                "El DataFrame contiene 41.188 registros (filas) y 21 variables (columnas)"
            ]
        },
        {
            "cell_type": "code",
            "execution_count": 7,
            "metadata": {},
            "outputs": [
                {
                    "name": "stdout",
                    "output_type": "stream",
                    "text": [
                        "<class 'pandas.core.frame.DataFrame'>\n",
                        "RangeIndex: 41188 entries, 0 to 41187\n",
                        "Data columns (total 21 columns):\n",
                        " #   Column          Non-Null Count  Dtype  \n",
                        "---  ------          --------------  -----  \n",
                        " 0   age             41188 non-null  int64  \n",
                        " 1   job             41188 non-null  object \n",
                        " 2   marital         41188 non-null  object \n",
                        " 3   education       41188 non-null  object \n",
                        " 4   default         41188 non-null  object \n",
                        " 5   housing         41188 non-null  object \n",
                        " 6   loan            41188 non-null  object \n",
                        " 7   contact         41188 non-null  object \n",
                        " 8   month           41188 non-null  object \n",
                        " 9   day_of_week     41188 non-null  object \n",
                        " 10  duration        41188 non-null  int64  \n",
                        " 11  campaign        41188 non-null  int64  \n",
                        " 12  pdays           41188 non-null  int64  \n",
                        " 13  previous        41188 non-null  int64  \n",
                        " 14  poutcome        41188 non-null  object \n",
                        " 15  emp.var.rate    41188 non-null  float64\n",
                        " 16  cons.price.idx  41188 non-null  float64\n",
                        " 17  cons.conf.idx   41188 non-null  float64\n",
                        " 18  euribor3m       41188 non-null  float64\n",
                        " 19  nr.employed     41188 non-null  float64\n",
                        " 20  y               41188 non-null  object \n",
                        "dtypes: float64(5), int64(5), object(11)\n",
                        "memory usage: 6.6+ MB\n"
                    ]
                }
            ],
            "source": [
                "# Obtener información sobre tipos de datos y valores no nulos\n",
                "\n",
                "interim_data.info()"
            ]
        },
        {
            "cell_type": "markdown",
            "metadata": {},
            "source": [
                "🏗 **Consideraciones para Preprocesamiento**\n",
                "\n",
                "- **Variables categóricas (`object`)**: `job`, `marital`, `education`, `default`, `housing`, `loan`, `contact`, `month`, `day_of_week`, `poutcome`, `y`.\n",
                "\n",
                "- **Variables numéricas (`int64`, `float64`)**: `age`, `duration`, `campaign`, `pdays`, `previous`, `emp.var.rate`, `cons.price.idx`, `cons.conf.idx`, `euribor3m`, `nr.employed`."
            ]
        },
        {
            "cell_type": "markdown",
            "metadata": {},
            "source": [
                "### Eliminar duplicados"
            ]
        },
        {
            "cell_type": "code",
            "execution_count": 8,
            "metadata": {},
            "outputs": [
                {
                    "data": {
                        "application/vnd.microsoft.datawrangler.viewer.v0+json": {
                            "columns": [
                                {
                                    "name": "index",
                                    "rawType": "int64",
                                    "type": "integer"
                                },
                                {
                                    "name": "age",
                                    "rawType": "int64",
                                    "type": "integer"
                                },
                                {
                                    "name": "job",
                                    "rawType": "object",
                                    "type": "string"
                                },
                                {
                                    "name": "marital",
                                    "rawType": "object",
                                    "type": "string"
                                },
                                {
                                    "name": "education",
                                    "rawType": "object",
                                    "type": "string"
                                },
                                {
                                    "name": "default",
                                    "rawType": "object",
                                    "type": "string"
                                },
                                {
                                    "name": "housing",
                                    "rawType": "object",
                                    "type": "string"
                                },
                                {
                                    "name": "loan",
                                    "rawType": "object",
                                    "type": "string"
                                },
                                {
                                    "name": "contact",
                                    "rawType": "object",
                                    "type": "string"
                                },
                                {
                                    "name": "month",
                                    "rawType": "object",
                                    "type": "string"
                                },
                                {
                                    "name": "day_of_week",
                                    "rawType": "object",
                                    "type": "string"
                                },
                                {
                                    "name": "duration",
                                    "rawType": "int64",
                                    "type": "integer"
                                },
                                {
                                    "name": "campaign",
                                    "rawType": "int64",
                                    "type": "integer"
                                },
                                {
                                    "name": "pdays",
                                    "rawType": "int64",
                                    "type": "integer"
                                },
                                {
                                    "name": "previous",
                                    "rawType": "int64",
                                    "type": "integer"
                                },
                                {
                                    "name": "poutcome",
                                    "rawType": "object",
                                    "type": "string"
                                },
                                {
                                    "name": "emp.var.rate",
                                    "rawType": "float64",
                                    "type": "float"
                                },
                                {
                                    "name": "cons.price.idx",
                                    "rawType": "float64",
                                    "type": "float"
                                },
                                {
                                    "name": "cons.conf.idx",
                                    "rawType": "float64",
                                    "type": "float"
                                },
                                {
                                    "name": "euribor3m",
                                    "rawType": "float64",
                                    "type": "float"
                                },
                                {
                                    "name": "nr.employed",
                                    "rawType": "float64",
                                    "type": "float"
                                },
                                {
                                    "name": "y",
                                    "rawType": "object",
                                    "type": "string"
                                }
                            ],
                            "conversionMethod": "pd.DataFrame",
                            "ref": "af058d60-a128-4697-861f-0fca07a3806d",
                            "rows": [
                                [
                                    "0",
                                    "56",
                                    "housemaid",
                                    "married",
                                    "basic.4y",
                                    "no",
                                    "no",
                                    "no",
                                    "telephone",
                                    "may",
                                    "mon",
                                    "261",
                                    "1",
                                    "999",
                                    "0",
                                    "nonexistent",
                                    "1.1",
                                    "93.994",
                                    "-36.4",
                                    "4.857",
                                    "5191.0",
                                    "no"
                                ],
                                [
                                    "1",
                                    "57",
                                    "services",
                                    "married",
                                    "high.school",
                                    "unknown",
                                    "no",
                                    "no",
                                    "telephone",
                                    "may",
                                    "mon",
                                    "149",
                                    "1",
                                    "999",
                                    "0",
                                    "nonexistent",
                                    "1.1",
                                    "93.994",
                                    "-36.4",
                                    "4.857",
                                    "5191.0",
                                    "no"
                                ],
                                [
                                    "2",
                                    "37",
                                    "services",
                                    "married",
                                    "high.school",
                                    "no",
                                    "yes",
                                    "no",
                                    "telephone",
                                    "may",
                                    "mon",
                                    "226",
                                    "1",
                                    "999",
                                    "0",
                                    "nonexistent",
                                    "1.1",
                                    "93.994",
                                    "-36.4",
                                    "4.857",
                                    "5191.0",
                                    "no"
                                ],
                                [
                                    "3",
                                    "40",
                                    "admin.",
                                    "married",
                                    "basic.6y",
                                    "no",
                                    "no",
                                    "no",
                                    "telephone",
                                    "may",
                                    "mon",
                                    "151",
                                    "1",
                                    "999",
                                    "0",
                                    "nonexistent",
                                    "1.1",
                                    "93.994",
                                    "-36.4",
                                    "4.857",
                                    "5191.0",
                                    "no"
                                ],
                                [
                                    "4",
                                    "56",
                                    "services",
                                    "married",
                                    "high.school",
                                    "no",
                                    "no",
                                    "yes",
                                    "telephone",
                                    "may",
                                    "mon",
                                    "307",
                                    "1",
                                    "999",
                                    "0",
                                    "nonexistent",
                                    "1.1",
                                    "93.994",
                                    "-36.4",
                                    "4.857",
                                    "5191.0",
                                    "no"
                                ]
                            ],
                            "shape": {
                                "columns": 21,
                                "rows": 5
                            }
                        },
                        "text/html": [
                            "<div>\n",
                            "<style scoped>\n",
                            "    .dataframe tbody tr th:only-of-type {\n",
                            "        vertical-align: middle;\n",
                            "    }\n",
                            "\n",
                            "    .dataframe tbody tr th {\n",
                            "        vertical-align: top;\n",
                            "    }\n",
                            "\n",
                            "    .dataframe thead th {\n",
                            "        text-align: right;\n",
                            "    }\n",
                            "</style>\n",
                            "<table border=\"1\" class=\"dataframe\">\n",
                            "  <thead>\n",
                            "    <tr style=\"text-align: right;\">\n",
                            "      <th></th>\n",
                            "      <th>age</th>\n",
                            "      <th>job</th>\n",
                            "      <th>marital</th>\n",
                            "      <th>education</th>\n",
                            "      <th>default</th>\n",
                            "      <th>housing</th>\n",
                            "      <th>loan</th>\n",
                            "      <th>contact</th>\n",
                            "      <th>month</th>\n",
                            "      <th>day_of_week</th>\n",
                            "      <th>...</th>\n",
                            "      <th>campaign</th>\n",
                            "      <th>pdays</th>\n",
                            "      <th>previous</th>\n",
                            "      <th>poutcome</th>\n",
                            "      <th>emp.var.rate</th>\n",
                            "      <th>cons.price.idx</th>\n",
                            "      <th>cons.conf.idx</th>\n",
                            "      <th>euribor3m</th>\n",
                            "      <th>nr.employed</th>\n",
                            "      <th>y</th>\n",
                            "    </tr>\n",
                            "  </thead>\n",
                            "  <tbody>\n",
                            "    <tr>\n",
                            "      <th>0</th>\n",
                            "      <td>56</td>\n",
                            "      <td>housemaid</td>\n",
                            "      <td>married</td>\n",
                            "      <td>basic.4y</td>\n",
                            "      <td>no</td>\n",
                            "      <td>no</td>\n",
                            "      <td>no</td>\n",
                            "      <td>telephone</td>\n",
                            "      <td>may</td>\n",
                            "      <td>mon</td>\n",
                            "      <td>...</td>\n",
                            "      <td>1</td>\n",
                            "      <td>999</td>\n",
                            "      <td>0</td>\n",
                            "      <td>nonexistent</td>\n",
                            "      <td>1.1</td>\n",
                            "      <td>93.994</td>\n",
                            "      <td>-36.4</td>\n",
                            "      <td>4.857</td>\n",
                            "      <td>5191.0</td>\n",
                            "      <td>no</td>\n",
                            "    </tr>\n",
                            "    <tr>\n",
                            "      <th>1</th>\n",
                            "      <td>57</td>\n",
                            "      <td>services</td>\n",
                            "      <td>married</td>\n",
                            "      <td>high.school</td>\n",
                            "      <td>unknown</td>\n",
                            "      <td>no</td>\n",
                            "      <td>no</td>\n",
                            "      <td>telephone</td>\n",
                            "      <td>may</td>\n",
                            "      <td>mon</td>\n",
                            "      <td>...</td>\n",
                            "      <td>1</td>\n",
                            "      <td>999</td>\n",
                            "      <td>0</td>\n",
                            "      <td>nonexistent</td>\n",
                            "      <td>1.1</td>\n",
                            "      <td>93.994</td>\n",
                            "      <td>-36.4</td>\n",
                            "      <td>4.857</td>\n",
                            "      <td>5191.0</td>\n",
                            "      <td>no</td>\n",
                            "    </tr>\n",
                            "    <tr>\n",
                            "      <th>2</th>\n",
                            "      <td>37</td>\n",
                            "      <td>services</td>\n",
                            "      <td>married</td>\n",
                            "      <td>high.school</td>\n",
                            "      <td>no</td>\n",
                            "      <td>yes</td>\n",
                            "      <td>no</td>\n",
                            "      <td>telephone</td>\n",
                            "      <td>may</td>\n",
                            "      <td>mon</td>\n",
                            "      <td>...</td>\n",
                            "      <td>1</td>\n",
                            "      <td>999</td>\n",
                            "      <td>0</td>\n",
                            "      <td>nonexistent</td>\n",
                            "      <td>1.1</td>\n",
                            "      <td>93.994</td>\n",
                            "      <td>-36.4</td>\n",
                            "      <td>4.857</td>\n",
                            "      <td>5191.0</td>\n",
                            "      <td>no</td>\n",
                            "    </tr>\n",
                            "    <tr>\n",
                            "      <th>3</th>\n",
                            "      <td>40</td>\n",
                            "      <td>admin.</td>\n",
                            "      <td>married</td>\n",
                            "      <td>basic.6y</td>\n",
                            "      <td>no</td>\n",
                            "      <td>no</td>\n",
                            "      <td>no</td>\n",
                            "      <td>telephone</td>\n",
                            "      <td>may</td>\n",
                            "      <td>mon</td>\n",
                            "      <td>...</td>\n",
                            "      <td>1</td>\n",
                            "      <td>999</td>\n",
                            "      <td>0</td>\n",
                            "      <td>nonexistent</td>\n",
                            "      <td>1.1</td>\n",
                            "      <td>93.994</td>\n",
                            "      <td>-36.4</td>\n",
                            "      <td>4.857</td>\n",
                            "      <td>5191.0</td>\n",
                            "      <td>no</td>\n",
                            "    </tr>\n",
                            "    <tr>\n",
                            "      <th>4</th>\n",
                            "      <td>56</td>\n",
                            "      <td>services</td>\n",
                            "      <td>married</td>\n",
                            "      <td>high.school</td>\n",
                            "      <td>no</td>\n",
                            "      <td>no</td>\n",
                            "      <td>yes</td>\n",
                            "      <td>telephone</td>\n",
                            "      <td>may</td>\n",
                            "      <td>mon</td>\n",
                            "      <td>...</td>\n",
                            "      <td>1</td>\n",
                            "      <td>999</td>\n",
                            "      <td>0</td>\n",
                            "      <td>nonexistent</td>\n",
                            "      <td>1.1</td>\n",
                            "      <td>93.994</td>\n",
                            "      <td>-36.4</td>\n",
                            "      <td>4.857</td>\n",
                            "      <td>5191.0</td>\n",
                            "      <td>no</td>\n",
                            "    </tr>\n",
                            "  </tbody>\n",
                            "</table>\n",
                            "<p>5 rows × 21 columns</p>\n",
                            "</div>"
                        ],
                        "text/plain": [
                            "   age        job  marital    education  default housing loan    contact  \\\n",
                            "0   56  housemaid  married     basic.4y       no      no   no  telephone   \n",
                            "1   57   services  married  high.school  unknown      no   no  telephone   \n",
                            "2   37   services  married  high.school       no     yes   no  telephone   \n",
                            "3   40     admin.  married     basic.6y       no      no   no  telephone   \n",
                            "4   56   services  married  high.school       no      no  yes  telephone   \n",
                            "\n",
                            "  month day_of_week  ...  campaign  pdays  previous     poutcome emp.var.rate  \\\n",
                            "0   may         mon  ...         1    999         0  nonexistent          1.1   \n",
                            "1   may         mon  ...         1    999         0  nonexistent          1.1   \n",
                            "2   may         mon  ...         1    999         0  nonexistent          1.1   \n",
                            "3   may         mon  ...         1    999         0  nonexistent          1.1   \n",
                            "4   may         mon  ...         1    999         0  nonexistent          1.1   \n",
                            "\n",
                            "   cons.price.idx  cons.conf.idx  euribor3m  nr.employed   y  \n",
                            "0          93.994          -36.4      4.857       5191.0  no  \n",
                            "1          93.994          -36.4      4.857       5191.0  no  \n",
                            "2          93.994          -36.4      4.857       5191.0  no  \n",
                            "3          93.994          -36.4      4.857       5191.0  no  \n",
                            "4          93.994          -36.4      4.857       5191.0  no  \n",
                            "\n",
                            "[5 rows x 21 columns]"
                        ]
                    },
                    "execution_count": 8,
                    "metadata": {},
                    "output_type": "execute_result"
                }
            ],
            "source": [
                "interim_data = interim_data.drop_duplicates().reset_index(drop = True)\n",
                "\n",
                "interim_data.head()"
            ]
        },
        {
            "cell_type": "code",
            "execution_count": 9,
            "metadata": {},
            "outputs": [
                {
                    "data": {
                        "text/plain": [
                            "(41176, 21)"
                        ]
                    },
                    "execution_count": 9,
                    "metadata": {},
                    "output_type": "execute_result"
                }
            ],
            "source": [
                "# Obtener las dimensiones\n",
                "\n",
                "interim_data.shape"
            ]
        },
        {
            "cell_type": "markdown",
            "metadata": {},
            "source": [
                "Después de eliminar los duplicados, el DataFrame contiene 41.176 registros (filas) y 21 variables (columnas); es decir, contiene 12 registros que el DataFrame original."
            ]
        },
        {
            "cell_type": "markdown",
            "metadata": {},
            "source": [
                "## Paso 3: Ingeniería de características"
            ]
        },
        {
            "cell_type": "markdown",
            "metadata": {},
            "source": [
                "### Análisis de outliers"
            ]
        },
        {
            "cell_type": "code",
            "execution_count": 10,
            "metadata": {},
            "outputs": [
                {
                    "data": {
                        "application/vnd.microsoft.datawrangler.viewer.v0+json": {
                            "columns": [
                                {
                                    "name": "index",
                                    "rawType": "object",
                                    "type": "string"
                                },
                                {
                                    "name": "age",
                                    "rawType": "float64",
                                    "type": "float"
                                },
                                {
                                    "name": "duration",
                                    "rawType": "float64",
                                    "type": "float"
                                },
                                {
                                    "name": "campaign",
                                    "rawType": "float64",
                                    "type": "float"
                                },
                                {
                                    "name": "pdays",
                                    "rawType": "float64",
                                    "type": "float"
                                },
                                {
                                    "name": "previous",
                                    "rawType": "float64",
                                    "type": "float"
                                },
                                {
                                    "name": "emp.var.rate",
                                    "rawType": "float64",
                                    "type": "float"
                                },
                                {
                                    "name": "cons.price.idx",
                                    "rawType": "float64",
                                    "type": "float"
                                },
                                {
                                    "name": "cons.conf.idx",
                                    "rawType": "float64",
                                    "type": "float"
                                },
                                {
                                    "name": "euribor3m",
                                    "rawType": "float64",
                                    "type": "float"
                                },
                                {
                                    "name": "nr.employed",
                                    "rawType": "float64",
                                    "type": "float"
                                }
                            ],
                            "conversionMethod": "pd.DataFrame",
                            "ref": "ef2349ba-f69b-4271-8f23-3e5af9c3193a",
                            "rows": [
                                [
                                    "count",
                                    "41176.0",
                                    "41176.0",
                                    "41176.0",
                                    "41176.0",
                                    "41176.0",
                                    "41176.0",
                                    "41176.0",
                                    "41176.0",
                                    "41176.0",
                                    "41176.0"
                                ],
                                [
                                    "mean",
                                    "40.02380027200311",
                                    "258.3158150378861",
                                    "2.567879347192539",
                                    "962.464809597824",
                                    "0.17301340586749564",
                                    "0.08192150767437315",
                                    "93.5757198853701",
                                    "-40.502863318437925",
                                    "3.621293447639401",
                                    "5167.034869827084"
                                ],
                                [
                                    "std",
                                    "10.420679868942724",
                                    "259.30532095427054",
                                    "2.7703183363779353",
                                    "186.9371017219995",
                                    "0.4949643813818039",
                                    "1.5708826145560135",
                                    "0.5788389855563888",
                                    "4.6278599648907806",
                                    "1.734437003660438",
                                    "72.2513639747301"
                                ],
                                [
                                    "min",
                                    "17.0",
                                    "0.0",
                                    "1.0",
                                    "0.0",
                                    "0.0",
                                    "-3.4",
                                    "92.201",
                                    "-50.8",
                                    "0.634",
                                    "4963.6"
                                ],
                                [
                                    "25%",
                                    "32.0",
                                    "102.0",
                                    "1.0",
                                    "999.0",
                                    "0.0",
                                    "-1.8",
                                    "93.075",
                                    "-42.7",
                                    "1.344",
                                    "5099.1"
                                ],
                                [
                                    "50%",
                                    "38.0",
                                    "180.0",
                                    "2.0",
                                    "999.0",
                                    "0.0",
                                    "1.1",
                                    "93.749",
                                    "-41.8",
                                    "4.857",
                                    "5191.0"
                                ],
                                [
                                    "75%",
                                    "47.0",
                                    "319.0",
                                    "3.0",
                                    "999.0",
                                    "0.0",
                                    "1.4",
                                    "93.994",
                                    "-36.4",
                                    "4.961",
                                    "5228.1"
                                ],
                                [
                                    "max",
                                    "98.0",
                                    "4918.0",
                                    "56.0",
                                    "999.0",
                                    "7.0",
                                    "1.4",
                                    "94.767",
                                    "-26.9",
                                    "5.045",
                                    "5228.1"
                                ]
                            ],
                            "shape": {
                                "columns": 10,
                                "rows": 8
                            }
                        },
                        "text/html": [
                            "<div>\n",
                            "<style scoped>\n",
                            "    .dataframe tbody tr th:only-of-type {\n",
                            "        vertical-align: middle;\n",
                            "    }\n",
                            "\n",
                            "    .dataframe tbody tr th {\n",
                            "        vertical-align: top;\n",
                            "    }\n",
                            "\n",
                            "    .dataframe thead th {\n",
                            "        text-align: right;\n",
                            "    }\n",
                            "</style>\n",
                            "<table border=\"1\" class=\"dataframe\">\n",
                            "  <thead>\n",
                            "    <tr style=\"text-align: right;\">\n",
                            "      <th></th>\n",
                            "      <th>age</th>\n",
                            "      <th>duration</th>\n",
                            "      <th>campaign</th>\n",
                            "      <th>pdays</th>\n",
                            "      <th>previous</th>\n",
                            "      <th>emp.var.rate</th>\n",
                            "      <th>cons.price.idx</th>\n",
                            "      <th>cons.conf.idx</th>\n",
                            "      <th>euribor3m</th>\n",
                            "      <th>nr.employed</th>\n",
                            "    </tr>\n",
                            "  </thead>\n",
                            "  <tbody>\n",
                            "    <tr>\n",
                            "      <th>count</th>\n",
                            "      <td>41176.00000</td>\n",
                            "      <td>41176.000000</td>\n",
                            "      <td>41176.000000</td>\n",
                            "      <td>41176.000000</td>\n",
                            "      <td>41176.000000</td>\n",
                            "      <td>41176.000000</td>\n",
                            "      <td>41176.000000</td>\n",
                            "      <td>41176.000000</td>\n",
                            "      <td>41176.000000</td>\n",
                            "      <td>41176.000000</td>\n",
                            "    </tr>\n",
                            "    <tr>\n",
                            "      <th>mean</th>\n",
                            "      <td>40.02380</td>\n",
                            "      <td>258.315815</td>\n",
                            "      <td>2.567879</td>\n",
                            "      <td>962.464810</td>\n",
                            "      <td>0.173013</td>\n",
                            "      <td>0.081922</td>\n",
                            "      <td>93.575720</td>\n",
                            "      <td>-40.502863</td>\n",
                            "      <td>3.621293</td>\n",
                            "      <td>5167.034870</td>\n",
                            "    </tr>\n",
                            "    <tr>\n",
                            "      <th>std</th>\n",
                            "      <td>10.42068</td>\n",
                            "      <td>259.305321</td>\n",
                            "      <td>2.770318</td>\n",
                            "      <td>186.937102</td>\n",
                            "      <td>0.494964</td>\n",
                            "      <td>1.570883</td>\n",
                            "      <td>0.578839</td>\n",
                            "      <td>4.627860</td>\n",
                            "      <td>1.734437</td>\n",
                            "      <td>72.251364</td>\n",
                            "    </tr>\n",
                            "    <tr>\n",
                            "      <th>min</th>\n",
                            "      <td>17.00000</td>\n",
                            "      <td>0.000000</td>\n",
                            "      <td>1.000000</td>\n",
                            "      <td>0.000000</td>\n",
                            "      <td>0.000000</td>\n",
                            "      <td>-3.400000</td>\n",
                            "      <td>92.201000</td>\n",
                            "      <td>-50.800000</td>\n",
                            "      <td>0.634000</td>\n",
                            "      <td>4963.600000</td>\n",
                            "    </tr>\n",
                            "    <tr>\n",
                            "      <th>25%</th>\n",
                            "      <td>32.00000</td>\n",
                            "      <td>102.000000</td>\n",
                            "      <td>1.000000</td>\n",
                            "      <td>999.000000</td>\n",
                            "      <td>0.000000</td>\n",
                            "      <td>-1.800000</td>\n",
                            "      <td>93.075000</td>\n",
                            "      <td>-42.700000</td>\n",
                            "      <td>1.344000</td>\n",
                            "      <td>5099.100000</td>\n",
                            "    </tr>\n",
                            "    <tr>\n",
                            "      <th>50%</th>\n",
                            "      <td>38.00000</td>\n",
                            "      <td>180.000000</td>\n",
                            "      <td>2.000000</td>\n",
                            "      <td>999.000000</td>\n",
                            "      <td>0.000000</td>\n",
                            "      <td>1.100000</td>\n",
                            "      <td>93.749000</td>\n",
                            "      <td>-41.800000</td>\n",
                            "      <td>4.857000</td>\n",
                            "      <td>5191.000000</td>\n",
                            "    </tr>\n",
                            "    <tr>\n",
                            "      <th>75%</th>\n",
                            "      <td>47.00000</td>\n",
                            "      <td>319.000000</td>\n",
                            "      <td>3.000000</td>\n",
                            "      <td>999.000000</td>\n",
                            "      <td>0.000000</td>\n",
                            "      <td>1.400000</td>\n",
                            "      <td>93.994000</td>\n",
                            "      <td>-36.400000</td>\n",
                            "      <td>4.961000</td>\n",
                            "      <td>5228.100000</td>\n",
                            "    </tr>\n",
                            "    <tr>\n",
                            "      <th>max</th>\n",
                            "      <td>98.00000</td>\n",
                            "      <td>4918.000000</td>\n",
                            "      <td>56.000000</td>\n",
                            "      <td>999.000000</td>\n",
                            "      <td>7.000000</td>\n",
                            "      <td>1.400000</td>\n",
                            "      <td>94.767000</td>\n",
                            "      <td>-26.900000</td>\n",
                            "      <td>5.045000</td>\n",
                            "      <td>5228.100000</td>\n",
                            "    </tr>\n",
                            "  </tbody>\n",
                            "</table>\n",
                            "</div>"
                        ],
                        "text/plain": [
                            "               age      duration      campaign         pdays      previous  \\\n",
                            "count  41176.00000  41176.000000  41176.000000  41176.000000  41176.000000   \n",
                            "mean      40.02380    258.315815      2.567879    962.464810      0.173013   \n",
                            "std       10.42068    259.305321      2.770318    186.937102      0.494964   \n",
                            "min       17.00000      0.000000      1.000000      0.000000      0.000000   \n",
                            "25%       32.00000    102.000000      1.000000    999.000000      0.000000   \n",
                            "50%       38.00000    180.000000      2.000000    999.000000      0.000000   \n",
                            "75%       47.00000    319.000000      3.000000    999.000000      0.000000   \n",
                            "max       98.00000   4918.000000     56.000000    999.000000      7.000000   \n",
                            "\n",
                            "       emp.var.rate  cons.price.idx  cons.conf.idx     euribor3m   nr.employed  \n",
                            "count  41176.000000    41176.000000   41176.000000  41176.000000  41176.000000  \n",
                            "mean       0.081922       93.575720     -40.502863      3.621293   5167.034870  \n",
                            "std        1.570883        0.578839       4.627860      1.734437     72.251364  \n",
                            "min       -3.400000       92.201000     -50.800000      0.634000   4963.600000  \n",
                            "25%       -1.800000       93.075000     -42.700000      1.344000   5099.100000  \n",
                            "50%        1.100000       93.749000     -41.800000      4.857000   5191.000000  \n",
                            "75%        1.400000       93.994000     -36.400000      4.961000   5228.100000  \n",
                            "max        1.400000       94.767000     -26.900000      5.045000   5228.100000  "
                        ]
                    },
                    "execution_count": 10,
                    "metadata": {},
                    "output_type": "execute_result"
                }
            ],
            "source": [
                "interim_data.describe()"
            ]
        },
        {
            "cell_type": "code",
            "execution_count": 11,
            "metadata": {},
            "outputs": [
                {
                    "data": {
                        "image/png": "[encoded data removed]",
                        "text/plain": [
                            "<Figure size 1200x1000 with 10 Axes>"
                        ]
                    },
                    "metadata": {},
                    "output_type": "display_data"
                }
            ],
            "source": [
                "import matplotlib.pyplot as plt\n",
                "import seaborn as sns\n",
                "\n",
                "fig, axes = plt.subplots(2, 5, figsize=(12, 10))\n",
                "\n",
                "sns.boxplot(ax=axes[0, 0], data=interim_data, y = \"age\")\n",
                "sns.boxplot(ax=axes[0, 1], data=interim_data, y = \"duration\")\n",
                "sns.boxplot(ax=axes[0, 2], data=interim_data, y = \"campaign\")\n",
                "sns.boxplot(ax=axes[0, 3], data=interim_data, y = \"pdays\")\n",
                "sns.boxplot(ax=axes[0, 4], data=interim_data, y = \"previous\")\n",
                "sns.boxplot(ax=axes[1, 0], data=interim_data, y = \"emp.var.rate\")\n",
                "sns.boxplot(ax=axes[1, 1], data=interim_data, y = \"cons.price.idx\")\n",
                "sns.boxplot(ax=axes[1, 2], data=interim_data, y = \"cons.conf.idx\")\n",
                "sns.boxplot(ax=axes[1, 3], data=interim_data, y = \"euribor3m\")\n",
                "sns.boxplot(ax=axes[1, 4], data=interim_data, y = \"nr.employed\")\n",
                "\n",
                "plt.tight_layout()\n",
                "plt.show()"
            ]
        },
        {
            "cell_type": "markdown",
            "metadata": {},
            "source": [
                "### Análisis de valores faltantes"
            ]
        },
        {
            "cell_type": "code",
            "execution_count": 12,
            "metadata": {},
            "outputs": [
                {
                    "data": {
                        "text/plain": [
                            "age               0.0\n",
                            "job               0.0\n",
                            "marital           0.0\n",
                            "education         0.0\n",
                            "default           0.0\n",
                            "housing           0.0\n",
                            "loan              0.0\n",
                            "contact           0.0\n",
                            "month             0.0\n",
                            "day_of_week       0.0\n",
                            "duration          0.0\n",
                            "campaign          0.0\n",
                            "pdays             0.0\n",
                            "previous          0.0\n",
                            "poutcome          0.0\n",
                            "emp.var.rate      0.0\n",
                            "cons.price.idx    0.0\n",
                            "cons.conf.idx     0.0\n",
                            "euribor3m         0.0\n",
                            "nr.employed       0.0\n",
                            "y                 0.0\n",
                            "dtype: float64"
                        ]
                    },
                    "execution_count": 12,
                    "metadata": {},
                    "output_type": "execute_result"
                }
            ],
            "source": [
                "# Count NaN\n",
                "\n",
                "interim_data.isnull().sum().sort_values(ascending = False) / len(interim_data)"
            ]
        },
        {
            "cell_type": "markdown",
            "metadata": {},
            "source": [
                "No hay valores faltantes."
            ]
        },
        {
            "cell_type": "markdown",
            "metadata": {},
            "source": [
                "### Escalado de valores"
            ]
        },
        {
            "cell_type": "code",
            "execution_count": 13,
            "metadata": {},
            "outputs": [],
            "source": [
                "from sklearn.model_selection import train_test_split\n",
                "from sklearn.preprocessing import MinMaxScaler\n",
                "\n",
                "# Transformar variable objetivo a binaria\n",
                "interim_data[\"y\"] = interim_data[\"y\"].map({\"yes\": 1, \"no\": 0})\n",
                "\n",
                "# Variables categóricas\n",
                "categorical_vars = [\"job\", \"marital\", \"education\", \"default\", \"housing\", \n",
                "                    \"loan\", \"contact\", \"month\", \"day_of_week\", \"poutcome\"]\n",
                "\n",
                "# Variables numéricas\n",
                "numeric_vars = [\"age\", \"duration\", \"campaign\", \"pdays\", \"previous\", \n",
                "                \"emp.var.rate\", \"cons.price.idx\", \"cons.conf.idx\", \"euribor3m\", \"nr.employed\"]\n",
                "\n",
                "# One-Hot Encoding para las categóricas\n",
                "data_dummies = pd.get_dummies(interim_data[categorical_vars], drop_first=True)\n",
                "\n",
                "# Concatenar con las variables numéricas\n",
                "X = pd.concat([interim_data[numeric_vars], data_dummies], axis=1)\n",
                "y = interim_data[\"y\"]\n",
                "\n",
                "# División en train y test\n",
                "X_train, X_test, y_train, y_test = train_test_split(X, y, test_size=0.2, random_state=42)\n",
                "\n",
                "# Escalar solo las variables numéricas\n",
                "scaler = MinMaxScaler()\n",
                "X_train_scaled_numeric = scaler.fit_transform(X_train[numeric_vars])\n",
                "X_test_scaled_numeric = scaler.transform(X_test[numeric_vars])\n",
                "\n",
                "# Cambiar explícitamente el tipo de las columnas numéricas a float64 para evitar el warning\n",
                "X_train[numeric_vars] = X_train[numeric_vars].astype(\"float64\")\n",
                "X_test[numeric_vars] = X_test[numeric_vars].astype(\"float64\")\n",
                "\n",
                "# Sustituir las columnas numéricas por sus versiones escaladas (ya compatibles)\n",
                "X_train.loc[:, numeric_vars] = X_train_scaled_numeric\n",
                "X_test.loc[:, numeric_vars] = X_test_scaled_numeric"
            ]
        },
        {
            "cell_type": "markdown",
            "metadata": {},
            "source": [
                "## Paso 4: Selección de características"
            ]
        },
        {
            "cell_type": "code",
            "execution_count": 14,
            "metadata": {},
            "outputs": [],
            "source": [
                "from sklearn.feature_selection import SelectKBest, f_classif\n",
                "\n",
                "# Asegurar que los índices estén limpios\n",
                "X_train = X_train.reset_index(drop=True)\n",
                "X_test = X_test.reset_index(drop=True)\n",
                "y_train = y_train.reset_index(drop=True)\n",
                "y_test = y_test.reset_index(drop=True)\n",
                "\n",
                "# Selección de características\n",
                "selector = SelectKBest(score_func=f_classif, k=5)\n",
                "X_train_sel_array = selector.fit_transform(X_train, y_train)\n",
                "X_test_sel_array = selector.transform(X_test)\n",
                "\n",
                "# Obtener nombres de columnas seleccionadas\n",
                "selected_cols = X_train.columns[selector.get_support()]\n",
                "\n",
                "# Crear DataFrames con índices alineados\n",
                "X_train_sel = pd.DataFrame(X_train_sel_array, columns=selected_cols, index=X_train.index)\n",
                "X_test_sel = pd.DataFrame(X_test_sel_array, columns=selected_cols, index=X_test.index)\n",
                "\n",
                "# Añadir la variable objetivo a los DataFrames seleccionados\n",
                "X_train_sel[\"y\"] = y_train\n",
                "X_test_sel[\"y\"] = y_test"
            ]
        },
        {
            "cell_type": "code",
            "execution_count": 15,
            "metadata": {},
            "outputs": [
                {
                    "data": {
                        "application/vnd.microsoft.datawrangler.viewer.v0+json": {
                            "columns": [
                                {
                                    "name": "index",
                                    "rawType": "int64",
                                    "type": "integer"
                                },
                                {
                                    "name": "duration",
                                    "rawType": "float64",
                                    "type": "float"
                                },
                                {
                                    "name": "pdays",
                                    "rawType": "float64",
                                    "type": "float"
                                },
                                {
                                    "name": "euribor3m",
                                    "rawType": "float64",
                                    "type": "float"
                                },
                                {
                                    "name": "nr.employed",
                                    "rawType": "float64",
                                    "type": "float"
                                },
                                {
                                    "name": "poutcome_success",
                                    "rawType": "float64",
                                    "type": "float"
                                },
                                {
                                    "name": "y",
                                    "rawType": "int64",
                                    "type": "integer"
                                }
                            ],
                            "conversionMethod": "pd.DataFrame",
                            "ref": "39b6a00f-b400-4574-8adc-b9376760cec9",
                            "rows": [
                                [
                                    "0",
                                    "0.05815372102480683",
                                    "1.0",
                                    "0.9805032872364543",
                                    "1.0",
                                    "0.0",
                                    "0"
                                ],
                                [
                                    "1",
                                    "0.036193574623830826",
                                    "1.0",
                                    "0.9589662208116074",
                                    "1.0",
                                    "0.0",
                                    "0"
                                ],
                                [
                                    "2",
                                    "0.020943472956486377",
                                    "1.0",
                                    "0.9814101110859217",
                                    "1.0",
                                    "0.0",
                                    "0"
                                ],
                                [
                                    "3",
                                    "0.027450183001220006",
                                    "1.0",
                                    "0.9580593969621403",
                                    "0.8597353497164448",
                                    "0.0",
                                    "0"
                                ],
                                [
                                    "4",
                                    "0.08499389995933306",
                                    "1.0",
                                    "0.14894581727499434",
                                    "0.512287334593573",
                                    "0.0",
                                    "0"
                                ]
                            ],
                            "shape": {
                                "columns": 6,
                                "rows": 5
                            }
                        },
                        "text/html": [
                            "<div>\n",
                            "<style scoped>\n",
                            "    .dataframe tbody tr th:only-of-type {\n",
                            "        vertical-align: middle;\n",
                            "    }\n",
                            "\n",
                            "    .dataframe tbody tr th {\n",
                            "        vertical-align: top;\n",
                            "    }\n",
                            "\n",
                            "    .dataframe thead th {\n",
                            "        text-align: right;\n",
                            "    }\n",
                            "</style>\n",
                            "<table border=\"1\" class=\"dataframe\">\n",
                            "  <thead>\n",
                            "    <tr style=\"text-align: right;\">\n",
                            "      <th></th>\n",
                            "      <th>duration</th>\n",
                            "      <th>pdays</th>\n",
                            "      <th>euribor3m</th>\n",
                            "      <th>nr.employed</th>\n",
                            "      <th>poutcome_success</th>\n",
                            "      <th>y</th>\n",
                            "    </tr>\n",
                            "  </thead>\n",
                            "  <tbody>\n",
                            "    <tr>\n",
                            "      <th>0</th>\n",
                            "      <td>0.058154</td>\n",
                            "      <td>1.0</td>\n",
                            "      <td>0.980503</td>\n",
                            "      <td>1.000000</td>\n",
                            "      <td>0.0</td>\n",
                            "      <td>0</td>\n",
                            "    </tr>\n",
                            "    <tr>\n",
                            "      <th>1</th>\n",
                            "      <td>0.036194</td>\n",
                            "      <td>1.0</td>\n",
                            "      <td>0.958966</td>\n",
                            "      <td>1.000000</td>\n",
                            "      <td>0.0</td>\n",
                            "      <td>0</td>\n",
                            "    </tr>\n",
                            "    <tr>\n",
                            "      <th>2</th>\n",
                            "      <td>0.020943</td>\n",
                            "      <td>1.0</td>\n",
                            "      <td>0.981410</td>\n",
                            "      <td>1.000000</td>\n",
                            "      <td>0.0</td>\n",
                            "      <td>0</td>\n",
                            "    </tr>\n",
                            "    <tr>\n",
                            "      <th>3</th>\n",
                            "      <td>0.027450</td>\n",
                            "      <td>1.0</td>\n",
                            "      <td>0.958059</td>\n",
                            "      <td>0.859735</td>\n",
                            "      <td>0.0</td>\n",
                            "      <td>0</td>\n",
                            "    </tr>\n",
                            "    <tr>\n",
                            "      <th>4</th>\n",
                            "      <td>0.084994</td>\n",
                            "      <td>1.0</td>\n",
                            "      <td>0.148946</td>\n",
                            "      <td>0.512287</td>\n",
                            "      <td>0.0</td>\n",
                            "      <td>0</td>\n",
                            "    </tr>\n",
                            "  </tbody>\n",
                            "</table>\n",
                            "</div>"
                        ],
                        "text/plain": [
                            "   duration  pdays  euribor3m  nr.employed  poutcome_success  y\n",
                            "0  0.058154    1.0   0.980503     1.000000               0.0  0\n",
                            "1  0.036194    1.0   0.958966     1.000000               0.0  0\n",
                            "2  0.020943    1.0   0.981410     1.000000               0.0  0\n",
                            "3  0.027450    1.0   0.958059     0.859735               0.0  0\n",
                            "4  0.084994    1.0   0.148946     0.512287               0.0  0"
                        ]
                    },
                    "execution_count": 15,
                    "metadata": {},
                    "output_type": "execute_result"
                }
            ],
            "source": [
                "X_train_sel.head()"
            ]
        },
        {
            "cell_type": "code",
            "execution_count": 16,
            "metadata": {},
            "outputs": [
                {
                    "data": {
                        "application/vnd.microsoft.datawrangler.viewer.v0+json": {
                            "columns": [
                                {
                                    "name": "index",
                                    "rawType": "int64",
                                    "type": "integer"
                                },
                                {
                                    "name": "duration",
                                    "rawType": "float64",
                                    "type": "float"
                                },
                                {
                                    "name": "pdays",
                                    "rawType": "float64",
                                    "type": "float"
                                },
                                {
                                    "name": "euribor3m",
                                    "rawType": "float64",
                                    "type": "float"
                                },
                                {
                                    "name": "nr.employed",
                                    "rawType": "float64",
                                    "type": "float"
                                },
                                {
                                    "name": "poutcome_success",
                                    "rawType": "float64",
                                    "type": "float"
                                },
                                {
                                    "name": "y",
                                    "rawType": "int64",
                                    "type": "integer"
                                }
                            ],
                            "conversionMethod": "pd.DataFrame",
                            "ref": "385c1890-9e7f-40ff-a44c-9e2184a7312d",
                            "rows": [
                                [
                                    "0",
                                    "0.29686864579097194",
                                    "1.0",
                                    "0.14327816821582406",
                                    "0.4257088846880883",
                                    "0.0",
                                    "1"
                                ],
                                [
                                    "1",
                                    "0.050427002846685644",
                                    "1.0",
                                    "0.15075946497392884",
                                    "0.512287334593573",
                                    "0.0",
                                    "0"
                                ],
                                [
                                    "2",
                                    "0.05591703944692965",
                                    "1.0",
                                    "0.07367943776921332",
                                    "0.0",
                                    "0.0",
                                    "1"
                                ],
                                [
                                    "3",
                                    "0.037820252135014235",
                                    "1.0",
                                    "0.15075946497392884",
                                    "0.512287334593573",
                                    "0.0",
                                    "0"
                                ],
                                [
                                    "4",
                                    "0.03741358275721838",
                                    "1.0",
                                    "0.9814101110859217",
                                    "1.0",
                                    "0.0",
                                    "0"
                                ]
                            ],
                            "shape": {
                                "columns": 6,
                                "rows": 5
                            }
                        },
                        "text/html": [
                            "<div>\n",
                            "<style scoped>\n",
                            "    .dataframe tbody tr th:only-of-type {\n",
                            "        vertical-align: middle;\n",
                            "    }\n",
                            "\n",
                            "    .dataframe tbody tr th {\n",
                            "        vertical-align: top;\n",
                            "    }\n",
                            "\n",
                            "    .dataframe thead th {\n",
                            "        text-align: right;\n",
                            "    }\n",
                            "</style>\n",
                            "<table border=\"1\" class=\"dataframe\">\n",
                            "  <thead>\n",
                            "    <tr style=\"text-align: right;\">\n",
                            "      <th></th>\n",
                            "      <th>duration</th>\n",
                            "      <th>pdays</th>\n",
                            "      <th>euribor3m</th>\n",
                            "      <th>nr.employed</th>\n",
                            "      <th>poutcome_success</th>\n",
                            "      <th>y</th>\n",
                            "    </tr>\n",
                            "  </thead>\n",
                            "  <tbody>\n",
                            "    <tr>\n",
                            "      <th>0</th>\n",
                            "      <td>0.296869</td>\n",
                            "      <td>1.0</td>\n",
                            "      <td>0.143278</td>\n",
                            "      <td>0.425709</td>\n",
                            "      <td>0.0</td>\n",
                            "      <td>1</td>\n",
                            "    </tr>\n",
                            "    <tr>\n",
                            "      <th>1</th>\n",
                            "      <td>0.050427</td>\n",
                            "      <td>1.0</td>\n",
                            "      <td>0.150759</td>\n",
                            "      <td>0.512287</td>\n",
                            "      <td>0.0</td>\n",
                            "      <td>0</td>\n",
                            "    </tr>\n",
                            "    <tr>\n",
                            "      <th>2</th>\n",
                            "      <td>0.055917</td>\n",
                            "      <td>1.0</td>\n",
                            "      <td>0.073679</td>\n",
                            "      <td>0.000000</td>\n",
                            "      <td>0.0</td>\n",
                            "      <td>1</td>\n",
                            "    </tr>\n",
                            "    <tr>\n",
                            "      <th>3</th>\n",
                            "      <td>0.037820</td>\n",
                            "      <td>1.0</td>\n",
                            "      <td>0.150759</td>\n",
                            "      <td>0.512287</td>\n",
                            "      <td>0.0</td>\n",
                            "      <td>0</td>\n",
                            "    </tr>\n",
                            "    <tr>\n",
                            "      <th>4</th>\n",
                            "      <td>0.037414</td>\n",
                            "      <td>1.0</td>\n",
                            "      <td>0.981410</td>\n",
                            "      <td>1.000000</td>\n",
                            "      <td>0.0</td>\n",
                            "      <td>0</td>\n",
                            "    </tr>\n",
                            "  </tbody>\n",
                            "</table>\n",
                            "</div>"
                        ],
                        "text/plain": [
                            "   duration  pdays  euribor3m  nr.employed  poutcome_success  y\n",
                            "0  0.296869    1.0   0.143278     0.425709               0.0  1\n",
                            "1  0.050427    1.0   0.150759     0.512287               0.0  0\n",
                            "2  0.055917    1.0   0.073679     0.000000               0.0  1\n",
                            "3  0.037820    1.0   0.150759     0.512287               0.0  0\n",
                            "4  0.037414    1.0   0.981410     1.000000               0.0  0"
                        ]
                    },
                    "execution_count": 16,
                    "metadata": {},
                    "output_type": "execute_result"
                }
            ],
            "source": [
                "X_test_sel.head()"
            ]
        },
        {
            "cell_type": "markdown",
            "metadata": {},
            "source": [
                "### Guardar los datos limpios"
            ]
        },
        {
            "cell_type": "code",
            "execution_count": 17,
            "metadata": {},
            "outputs": [],
            "source": [
                "# Guardar a CSV\n",
                "X_train_sel.to_csv(\"C:/Users/Efrain Almeida/Documents/4Geeks Academy/02 Proyectos/efrainnalmeida-my-first-ml-algorithm/data/processed/clean_train.csv\", index=False)\n",
                "X_test_sel.to_csv(\"C:/Users/Efrain Almeida/Documents/4Geeks Academy/02 Proyectos/efrainnalmeida-my-first-ml-algorithm/data/processed/clean_test.csv\", index=False)"
            ]
        },
        {
            "cell_type": "markdown",
            "metadata": {},
            "source": [
                "## Paso 5: Modelo de regresión logística"
            ]
        },
        {
            "cell_type": "code",
            "execution_count": 18,
            "metadata": {},
            "outputs": [],
            "source": [
                "# Leer los datos procesados\n",
                "\n",
                "train_data = pd.read_csv(\"C:/Users/Efrain Almeida/Documents/4Geeks Academy/02 Proyectos/efrainnalmeida-my-first-ml-algorithm/data/processed/clean_train.csv\")\n",
                "test_data = pd.read_csv(\"C:/Users/Efrain Almeida/Documents/4Geeks Academy/02 Proyectos/efrainnalmeida-my-first-ml-algorithm/data/processed/clean_test.csv\")"
            ]
        },
        {
            "cell_type": "code",
            "execution_count": 19,
            "metadata": {},
            "outputs": [
                {
                    "data": {
                        "application/vnd.microsoft.datawrangler.viewer.v0+json": {
                            "columns": [
                                {
                                    "name": "index",
                                    "rawType": "int64",
                                    "type": "integer"
                                },
                                {
                                    "name": "duration",
                                    "rawType": "float64",
                                    "type": "float"
                                },
                                {
                                    "name": "pdays",
                                    "rawType": "float64",
                                    "type": "float"
                                },
                                {
                                    "name": "euribor3m",
                                    "rawType": "float64",
                                    "type": "float"
                                },
                                {
                                    "name": "nr.employed",
                                    "rawType": "float64",
                                    "type": "float"
                                },
                                {
                                    "name": "poutcome_success",
                                    "rawType": "float64",
                                    "type": "float"
                                },
                                {
                                    "name": "y",
                                    "rawType": "int64",
                                    "type": "integer"
                                }
                            ],
                            "conversionMethod": "pd.DataFrame",
                            "ref": "1431c7cd-91f6-49ac-a909-25ec85922a99",
                            "rows": [
                                [
                                    "0",
                                    "0.0581537210248068",
                                    "1.0",
                                    "0.9805032872364544",
                                    "1.0",
                                    "0.0",
                                    "0"
                                ],
                                [
                                    "1",
                                    "0.0361935746238308",
                                    "1.0",
                                    "0.9589662208116074",
                                    "1.0",
                                    "0.0",
                                    "0"
                                ],
                                [
                                    "2",
                                    "0.0209434729564863",
                                    "1.0",
                                    "0.9814101110859216",
                                    "1.0",
                                    "0.0",
                                    "0"
                                ],
                                [
                                    "3",
                                    "0.02745018300122",
                                    "1.0",
                                    "0.9580593969621404",
                                    "0.8597353497164448",
                                    "0.0",
                                    "0"
                                ],
                                [
                                    "4",
                                    "0.084993899959333",
                                    "1.0",
                                    "0.1489458172749943",
                                    "0.512287334593573",
                                    "0.0",
                                    "0"
                                ]
                            ],
                            "shape": {
                                "columns": 6,
                                "rows": 5
                            }
                        },
                        "text/html": [
                            "<div>\n",
                            "<style scoped>\n",
                            "    .dataframe tbody tr th:only-of-type {\n",
                            "        vertical-align: middle;\n",
                            "    }\n",
                            "\n",
                            "    .dataframe tbody tr th {\n",
                            "        vertical-align: top;\n",
                            "    }\n",
                            "\n",
                            "    .dataframe thead th {\n",
                            "        text-align: right;\n",
                            "    }\n",
                            "</style>\n",
                            "<table border=\"1\" class=\"dataframe\">\n",
                            "  <thead>\n",
                            "    <tr style=\"text-align: right;\">\n",
                            "      <th></th>\n",
                            "      <th>duration</th>\n",
                            "      <th>pdays</th>\n",
                            "      <th>euribor3m</th>\n",
                            "      <th>nr.employed</th>\n",
                            "      <th>poutcome_success</th>\n",
                            "      <th>y</th>\n",
                            "    </tr>\n",
                            "  </thead>\n",
                            "  <tbody>\n",
                            "    <tr>\n",
                            "      <th>0</th>\n",
                            "      <td>0.058154</td>\n",
                            "      <td>1.0</td>\n",
                            "      <td>0.980503</td>\n",
                            "      <td>1.000000</td>\n",
                            "      <td>0.0</td>\n",
                            "      <td>0</td>\n",
                            "    </tr>\n",
                            "    <tr>\n",
                            "      <th>1</th>\n",
                            "      <td>0.036194</td>\n",
                            "      <td>1.0</td>\n",
                            "      <td>0.958966</td>\n",
                            "      <td>1.000000</td>\n",
                            "      <td>0.0</td>\n",
                            "      <td>0</td>\n",
                            "    </tr>\n",
                            "    <tr>\n",
                            "      <th>2</th>\n",
                            "      <td>0.020943</td>\n",
                            "      <td>1.0</td>\n",
                            "      <td>0.981410</td>\n",
                            "      <td>1.000000</td>\n",
                            "      <td>0.0</td>\n",
                            "      <td>0</td>\n",
                            "    </tr>\n",
                            "    <tr>\n",
                            "      <th>3</th>\n",
                            "      <td>0.027450</td>\n",
                            "      <td>1.0</td>\n",
                            "      <td>0.958059</td>\n",
                            "      <td>0.859735</td>\n",
                            "      <td>0.0</td>\n",
                            "      <td>0</td>\n",
                            "    </tr>\n",
                            "    <tr>\n",
                            "      <th>4</th>\n",
                            "      <td>0.084994</td>\n",
                            "      <td>1.0</td>\n",
                            "      <td>0.148946</td>\n",
                            "      <td>0.512287</td>\n",
                            "      <td>0.0</td>\n",
                            "      <td>0</td>\n",
                            "    </tr>\n",
                            "  </tbody>\n",
                            "</table>\n",
                            "</div>"
                        ],
                        "text/plain": [
                            "   duration  pdays  euribor3m  nr.employed  poutcome_success  y\n",
                            "0  0.058154    1.0   0.980503     1.000000               0.0  0\n",
                            "1  0.036194    1.0   0.958966     1.000000               0.0  0\n",
                            "2  0.020943    1.0   0.981410     1.000000               0.0  0\n",
                            "3  0.027450    1.0   0.958059     0.859735               0.0  0\n",
                            "4  0.084994    1.0   0.148946     0.512287               0.0  0"
                        ]
                    },
                    "execution_count": 19,
                    "metadata": {},
                    "output_type": "execute_result"
                }
            ],
            "source": [
                "train_data.head()"
            ]
        },
        {
            "cell_type": "code",
            "execution_count": 20,
            "metadata": {},
            "outputs": [
                {
                    "data": {
                        "application/vnd.microsoft.datawrangler.viewer.v0+json": {
                            "columns": [
                                {
                                    "name": "index",
                                    "rawType": "int64",
                                    "type": "integer"
                                },
                                {
                                    "name": "duration",
                                    "rawType": "float64",
                                    "type": "float"
                                },
                                {
                                    "name": "pdays",
                                    "rawType": "float64",
                                    "type": "float"
                                },
                                {
                                    "name": "euribor3m",
                                    "rawType": "float64",
                                    "type": "float"
                                },
                                {
                                    "name": "nr.employed",
                                    "rawType": "float64",
                                    "type": "float"
                                },
                                {
                                    "name": "poutcome_success",
                                    "rawType": "float64",
                                    "type": "float"
                                },
                                {
                                    "name": "y",
                                    "rawType": "int64",
                                    "type": "integer"
                                }
                            ],
                            "conversionMethod": "pd.DataFrame",
                            "ref": "4c17d679-e5e2-4ad1-a2f7-c4eaaed90def",
                            "rows": [
                                [
                                    "0",
                                    "0.2968686457909719",
                                    "1.0",
                                    "0.143278168215824",
                                    "0.4257088846880883",
                                    "0.0",
                                    "1"
                                ],
                                [
                                    "1",
                                    "0.0504270028466856",
                                    "1.0",
                                    "0.1507594649739288",
                                    "0.512287334593573",
                                    "0.0",
                                    "0"
                                ],
                                [
                                    "2",
                                    "0.0559170394469296",
                                    "1.0",
                                    "0.0736794377692133",
                                    "0.0",
                                    "0.0",
                                    "1"
                                ],
                                [
                                    "3",
                                    "0.0378202521350142",
                                    "1.0",
                                    "0.1507594649739288",
                                    "0.512287334593573",
                                    "0.0",
                                    "0"
                                ],
                                [
                                    "4",
                                    "0.0374135827572183",
                                    "1.0",
                                    "0.9814101110859216",
                                    "1.0",
                                    "0.0",
                                    "0"
                                ]
                            ],
                            "shape": {
                                "columns": 6,
                                "rows": 5
                            }
                        },
                        "text/html": [
                            "<div>\n",
                            "<style scoped>\n",
                            "    .dataframe tbody tr th:only-of-type {\n",
                            "        vertical-align: middle;\n",
                            "    }\n",
                            "\n",
                            "    .dataframe tbody tr th {\n",
                            "        vertical-align: top;\n",
                            "    }\n",
                            "\n",
                            "    .dataframe thead th {\n",
                            "        text-align: right;\n",
                            "    }\n",
                            "</style>\n",
                            "<table border=\"1\" class=\"dataframe\">\n",
                            "  <thead>\n",
                            "    <tr style=\"text-align: right;\">\n",
                            "      <th></th>\n",
                            "      <th>duration</th>\n",
                            "      <th>pdays</th>\n",
                            "      <th>euribor3m</th>\n",
                            "      <th>nr.employed</th>\n",
                            "      <th>poutcome_success</th>\n",
                            "      <th>y</th>\n",
                            "    </tr>\n",
                            "  </thead>\n",
                            "  <tbody>\n",
                            "    <tr>\n",
                            "      <th>0</th>\n",
                            "      <td>0.296869</td>\n",
                            "      <td>1.0</td>\n",
                            "      <td>0.143278</td>\n",
                            "      <td>0.425709</td>\n",
                            "      <td>0.0</td>\n",
                            "      <td>1</td>\n",
                            "    </tr>\n",
                            "    <tr>\n",
                            "      <th>1</th>\n",
                            "      <td>0.050427</td>\n",
                            "      <td>1.0</td>\n",
                            "      <td>0.150759</td>\n",
                            "      <td>0.512287</td>\n",
                            "      <td>0.0</td>\n",
                            "      <td>0</td>\n",
                            "    </tr>\n",
                            "    <tr>\n",
                            "      <th>2</th>\n",
                            "      <td>0.055917</td>\n",
                            "      <td>1.0</td>\n",
                            "      <td>0.073679</td>\n",
                            "      <td>0.000000</td>\n",
                            "      <td>0.0</td>\n",
                            "      <td>1</td>\n",
                            "    </tr>\n",
                            "    <tr>\n",
                            "      <th>3</th>\n",
                            "      <td>0.037820</td>\n",
                            "      <td>1.0</td>\n",
                            "      <td>0.150759</td>\n",
                            "      <td>0.512287</td>\n",
                            "      <td>0.0</td>\n",
                            "      <td>0</td>\n",
                            "    </tr>\n",
                            "    <tr>\n",
                            "      <th>4</th>\n",
                            "      <td>0.037414</td>\n",
                            "      <td>1.0</td>\n",
                            "      <td>0.981410</td>\n",
                            "      <td>1.000000</td>\n",
                            "      <td>0.0</td>\n",
                            "      <td>0</td>\n",
                            "    </tr>\n",
                            "  </tbody>\n",
                            "</table>\n",
                            "</div>"
                        ],
                        "text/plain": [
                            "   duration  pdays  euribor3m  nr.employed  poutcome_success  y\n",
                            "0  0.296869    1.0   0.143278     0.425709               0.0  1\n",
                            "1  0.050427    1.0   0.150759     0.512287               0.0  0\n",
                            "2  0.055917    1.0   0.073679     0.000000               0.0  1\n",
                            "3  0.037820    1.0   0.150759     0.512287               0.0  0\n",
                            "4  0.037414    1.0   0.981410     1.000000               0.0  0"
                        ]
                    },
                    "execution_count": 20,
                    "metadata": {},
                    "output_type": "execute_result"
                }
            ],
            "source": [
                "test_data.head()"
            ]
        },
        {
            "cell_type": "code",
            "execution_count": 21,
            "metadata": {},
            "outputs": [],
            "source": [
                "# Establecer X_train, y_train, X_test, y_test\n",
                "\n",
                "X_train = train_data.drop([\"y\"], axis = 1)\n",
                "y_train = train_data[\"y\"]\n",
                "X_test = test_data.drop([\"y\"], axis = 1)\n",
                "y_test = test_data[\"y\"]"
            ]
        },
        {
            "cell_type": "code",
            "execution_count": 22,
            "metadata": {},
            "outputs": [
                {
                    "data": {
                        "text/html": [
                            "<style>#sk-container-id-1 {\n",
                            "  /* Definition of color scheme common for light and dark mode */\n",
                            "  --sklearn-color-text: #000;\n",
                            "  --sklearn-color-text-muted: #666;\n",
                            "  --sklearn-color-line: gray;\n",
                            "  /* Definition of color scheme for unfitted estimators */\n",
                            "  --sklearn-color-unfitted-level-0: #fff5e6;\n",
                            "  --sklearn-color-unfitted-level-1: #f6e4d2;\n",
                            "  --sklearn-color-unfitted-level-2: #ffe0b3;\n",
                            "  --sklearn-color-unfitted-level-3: chocolate;\n",
                            "  /* Definition of color scheme for fitted estimators */\n",
                            "  --sklearn-color-fitted-level-0: #f0f8ff;\n",
                            "  --sklearn-color-fitted-level-1: #d4ebff;\n",
                            "  --sklearn-color-fitted-level-2: #b3dbfd;\n",
                            "  --sklearn-color-fitted-level-3: cornflowerblue;\n",
                            "\n",
                            "  /* Specific color for light theme */\n",
                            "  --sklearn-color-text-on-default-background: var(--sg-text-color, var(--theme-code-foreground, var(--jp-content-font-color1, black)));\n",
                            "  --sklearn-color-background: var(--sg-background-color, var(--theme-background, var(--jp-layout-color0, white)));\n",
                            "  --sklearn-color-border-box: var(--sg-text-color, var(--theme-code-foreground, var(--jp-content-font-color1, black)));\n",
                            "  --sklearn-color-icon: #696969;\n",
                            "\n",
                            "  @media (prefers-color-scheme: dark) {\n",
                            "    /* Redefinition of color scheme for dark theme */\n",
                            "    --sklearn-color-text-on-default-background: var(--sg-text-color, var(--theme-code-foreground, var(--jp-content-font-color1, white)));\n",
                            "    --sklearn-color-background: var(--sg-background-color, var(--theme-background, var(--jp-layout-color0, #111)));\n",
                            "    --sklearn-color-border-box: var(--sg-text-color, var(--theme-code-foreground, var(--jp-content-font-color1, white)));\n",
                            "    --sklearn-color-icon: #878787;\n",
                            "  }\n",
                            "}\n",
                            "\n",
                            "#sk-container-id-1 {\n",
                            "  color: var(--sklearn-color-text);\n",
                            "}\n",
                            "\n",
                            "#sk-container-id-1 pre {\n",
                            "  padding: 0;\n",
                            "}\n",
                            "\n",
                            "#sk-container-id-1 input.sk-hidden--visually {\n",
                            "  border: 0;\n",
                            "  clip: rect(1px 1px 1px 1px);\n",
                            "  clip: rect(1px, 1px, 1px, 1px);\n",
                            "  height: 1px;\n",
                            "  margin: -1px;\n",
                            "  overflow: hidden;\n",
                            "  padding: 0;\n",
                            "  position: absolute;\n",
                            "  width: 1px;\n",
                            "}\n",
                            "\n",
                            "#sk-container-id-1 div.sk-dashed-wrapped {\n",
                            "  border: 1px dashed var(--sklearn-color-line);\n",
                            "  margin: 0 0.4em 0.5em 0.4em;\n",
                            "  box-sizing: border-box;\n",
                            "  padding-bottom: 0.4em;\n",
                            "  background-color: var(--sklearn-color-background);\n",
                            "}\n",
                            "\n",
                            "#sk-container-id-1 div.sk-container {\n",
                            "  /* jupyter's `normalize.less` sets `[hidden] { display: none; }`\n",
                            "     but bootstrap.min.css set `[hidden] { display: none !important; }`\n",
                            "     so we also need the `!important` here to be able to override the\n",
                            "     default hidden behavior on the sphinx rendered scikit-learn.org.\n",
                            "     See: https://github.com/scikit-learn/scikit-learn/issues/21755 */\n",
                            "  display: inline-block !important;\n",
                            "  position: relative;\n",
                            "}\n",
                            "\n",
                            "#sk-container-id-1 div.sk-text-repr-fallback {\n",
                            "  display: none;\n",
                            "}\n",
                            "\n",
                            "div.sk-parallel-item,\n",
                            "div.sk-serial,\n",
                            "div.sk-item {\n",
                            "  /* draw centered vertical line to link estimators */\n",
                            "  background-image: linear-gradient(var(--sklearn-color-text-on-default-background), var(--sklearn-color-text-on-default-background));\n",
                            "  background-size: 2px 100%;\n",
                            "  background-repeat: no-repeat;\n",
                            "  background-position: center center;\n",
                            "}\n",
                            "\n",
                            "/* Parallel-specific style estimator block */\n",
                            "\n",
                            "#sk-container-id-1 div.sk-parallel-item::after {\n",
                            "  content: \"\";\n",
                            "  width: 100%;\n",
                            "  border-bottom: 2px solid var(--sklearn-color-text-on-default-background);\n",
                            "  flex-grow: 1;\n",
                            "}\n",
                            "\n",
                            "#sk-container-id-1 div.sk-parallel {\n",
                            "  display: flex;\n",
                            "  align-items: stretch;\n",
                            "  justify-content: center;\n",
                            "  background-color: var(--sklearn-color-background);\n",
                            "  position: relative;\n",
                            "}\n",
                            "\n",
                            "#sk-container-id-1 div.sk-parallel-item {\n",
                            "  display: flex;\n",
                            "  flex-direction: column;\n",
                            "}\n",
                            "\n",
                            "#sk-container-id-1 div.sk-parallel-item:first-child::after {\n",
                            "  align-self: flex-end;\n",
                            "  width: 50%;\n",
                            "}\n",
                            "\n",
                            "#sk-container-id-1 div.sk-parallel-item:last-child::after {\n",
                            "  align-self: flex-start;\n",
                            "  width: 50%;\n",
                            "}\n",
                            "\n",
                            "#sk-container-id-1 div.sk-parallel-item:only-child::after {\n",
                            "  width: 0;\n",
                            "}\n",
                            "\n",
                            "/* Serial-specific style estimator block */\n",
                            "\n",
                            "#sk-container-id-1 div.sk-serial {\n",
                            "  display: flex;\n",
                            "  flex-direction: column;\n",
                            "  align-items: center;\n",
                            "  background-color: var(--sklearn-color-background);\n",
                            "  padding-right: 1em;\n",
                            "  padding-left: 1em;\n",
                            "}\n",
                            "\n",
                            "\n",
                            "/* Toggleable style: style used for estimator/Pipeline/ColumnTransformer box that is\n",
                            "clickable and can be expanded/collapsed.\n",
                            "- Pipeline and ColumnTransformer use this feature and define the default style\n",
                            "- Estimators will overwrite some part of the style using the `sk-estimator` class\n",
                            "*/\n",
                            "\n",
                            "/* Pipeline and ColumnTransformer style (default) */\n",
                            "\n",
                            "#sk-container-id-1 div.sk-toggleable {\n",
                            "  /* Default theme specific background. It is overwritten whether we have a\n",
                            "  specific estimator or a Pipeline/ColumnTransformer */\n",
                            "  background-color: var(--sklearn-color-background);\n",
                            "}\n",
                            "\n",
                            "/* Toggleable label */\n",
                            "#sk-container-id-1 label.sk-toggleable__label {\n",
                            "  cursor: pointer;\n",
                            "  display: flex;\n",
                            "  width: 100%;\n",
                            "  margin-bottom: 0;\n",
                            "  padding: 0.5em;\n",
                            "  box-sizing: border-box;\n",
                            "  text-align: center;\n",
                            "  align-items: start;\n",
                            "  justify-content: space-between;\n",
                            "  gap: 0.5em;\n",
                            "}\n",
                            "\n",
                            "#sk-container-id-1 label.sk-toggleable__label .caption {\n",
                            "  font-size: 0.6rem;\n",
                            "  font-weight: lighter;\n",
                            "  color: var(--sklearn-color-text-muted);\n",
                            "}\n",
                            "\n",
                            "#sk-container-id-1 label.sk-toggleable__label-arrow:before {\n",
                            "  /* Arrow on the left of the label */\n",
                            "  content: \"▸\";\n",
                            "  float: left;\n",
                            "  margin-right: 0.25em;\n",
                            "  color: var(--sklearn-color-icon);\n",
                            "}\n",
                            "\n",
                            "#sk-container-id-1 label.sk-toggleable__label-arrow:hover:before {\n",
                            "  color: var(--sklearn-color-text);\n",
                            "}\n",
                            "\n",
                            "/* Toggleable content - dropdown */\n",
                            "\n",
                            "#sk-container-id-1 div.sk-toggleable__content {\n",
                            "  max-height: 0;\n",
                            "  max-width: 0;\n",
                            "  overflow: hidden;\n",
                            "  text-align: left;\n",
                            "  /* unfitted */\n",
                            "  background-color: var(--sklearn-color-unfitted-level-0);\n",
                            "}\n",
                            "\n",
                            "#sk-container-id-1 div.sk-toggleable__content.fitted {\n",
                            "  /* fitted */\n",
                            "  background-color: var(--sklearn-color-fitted-level-0);\n",
                            "}\n",
                            "\n",
                            "#sk-container-id-1 div.sk-toggleable__content pre {\n",
                            "  margin: 0.2em;\n",
                            "  border-radius: 0.25em;\n",
                            "  color: var(--sklearn-color-text);\n",
                            "  /* unfitted */\n",
                            "  background-color: var(--sklearn-color-unfitted-level-0);\n",
                            "}\n",
                            "\n",
                            "#sk-container-id-1 div.sk-toggleable__content.fitted pre {\n",
                            "  /* unfitted */\n",
                            "  background-color: var(--sklearn-color-fitted-level-0);\n",
                            "}\n",
                            "\n",
                            "#sk-container-id-1 input.sk-toggleable__control:checked~div.sk-toggleable__content {\n",
                            "  /* Expand drop-down */\n",
                            "  max-height: 200px;\n",
                            "  max-width: 100%;\n",
                            "  overflow: auto;\n",
                            "}\n",
                            "\n",
                            "#sk-container-id-1 input.sk-toggleable__control:checked~label.sk-toggleable__label-arrow:before {\n",
                            "  content: \"▾\";\n",
                            "}\n",
                            "\n",
                            "/* Pipeline/ColumnTransformer-specific style */\n",
                            "\n",
                            "#sk-container-id-1 div.sk-label input.sk-toggleable__control:checked~label.sk-toggleable__label {\n",
                            "  color: var(--sklearn-color-text);\n",
                            "  background-color: var(--sklearn-color-unfitted-level-2);\n",
                            "}\n",
                            "\n",
                            "#sk-container-id-1 div.sk-label.fitted input.sk-toggleable__control:checked~label.sk-toggleable__label {\n",
                            "  background-color: var(--sklearn-color-fitted-level-2);\n",
                            "}\n",
                            "\n",
                            "/* Estimator-specific style */\n",
                            "\n",
                            "/* Colorize estimator box */\n",
                            "#sk-container-id-1 div.sk-estimator input.sk-toggleable__control:checked~label.sk-toggleable__label {\n",
                            "  /* unfitted */\n",
                            "  background-color: var(--sklearn-color-unfitted-level-2);\n",
                            "}\n",
                            "\n",
                            "#sk-container-id-1 div.sk-estimator.fitted input.sk-toggleable__control:checked~label.sk-toggleable__label {\n",
                            "  /* fitted */\n",
                            "  background-color: var(--sklearn-color-fitted-level-2);\n",
                            "}\n",
                            "\n",
                            "#sk-container-id-1 div.sk-label label.sk-toggleable__label,\n",
                            "#sk-container-id-1 div.sk-label label {\n",
                            "  /* The background is the default theme color */\n",
                            "  color: var(--sklearn-color-text-on-default-background);\n",
                            "}\n",
                            "\n",
                            "/* On hover, darken the color of the background */\n",
                            "#sk-container-id-1 div.sk-label:hover label.sk-toggleable__label {\n",
                            "  color: var(--sklearn-color-text);\n",
                            "  background-color: var(--sklearn-color-unfitted-level-2);\n",
                            "}\n",
                            "\n",
                            "/* Label box, darken color on hover, fitted */\n",
                            "#sk-container-id-1 div.sk-label.fitted:hover label.sk-toggleable__label.fitted {\n",
                            "  color: var(--sklearn-color-text);\n",
                            "  background-color: var(--sklearn-color-fitted-level-2);\n",
                            "}\n",
                            "\n",
                            "/* Estimator label */\n",
                            "\n",
                            "#sk-container-id-1 div.sk-label label {\n",
                            "  font-family: monospace;\n",
                            "  font-weight: bold;\n",
                            "  display: inline-block;\n",
                            "  line-height: 1.2em;\n",
                            "}\n",
                            "\n",
                            "#sk-container-id-1 div.sk-label-container {\n",
                            "  text-align: center;\n",
                            "}\n",
                            "\n",
                            "/* Estimator-specific */\n",
                            "#sk-container-id-1 div.sk-estimator {\n",
                            "  font-family: monospace;\n",
                            "  border: 1px dotted var(--sklearn-color-border-box);\n",
                            "  border-radius: 0.25em;\n",
                            "  box-sizing: border-box;\n",
                            "  margin-bottom: 0.5em;\n",
                            "  /* unfitted */\n",
                            "  background-color: var(--sklearn-color-unfitted-level-0);\n",
                            "}\n",
                            "\n",
                            "#sk-container-id-1 div.sk-estimator.fitted {\n",
                            "  /* fitted */\n",
                            "  background-color: var(--sklearn-color-fitted-level-0);\n",
                            "}\n",
                            "\n",
                            "/* on hover */\n",
                            "#sk-container-id-1 div.sk-estimator:hover {\n",
                            "  /* unfitted */\n",
                            "  background-color: var(--sklearn-color-unfitted-level-2);\n",
                            "}\n",
                            "\n",
                            "#sk-container-id-1 div.sk-estimator.fitted:hover {\n",
                            "  /* fitted */\n",
                            "  background-color: var(--sklearn-color-fitted-level-2);\n",
                            "}\n",
                            "\n",
                            "/* Specification for estimator info (e.g. \"i\" and \"?\") */\n",
                            "\n",
                            "/* Common style for \"i\" and \"?\" */\n",
                            "\n",
                            ".sk-estimator-doc-link,\n",
                            "a:link.sk-estimator-doc-link,\n",
                            "a:visited.sk-estimator-doc-link {\n",
                            "  float: right;\n",
                            "  font-size: smaller;\n",
                            "  line-height: 1em;\n",
                            "  font-family: monospace;\n",
                            "  background-color: var(--sklearn-color-background);\n",
                            "  border-radius: 1em;\n",
                            "  height: 1em;\n",
                            "  width: 1em;\n",
                            "  text-decoration: none !important;\n",
                            "  margin-left: 0.5em;\n",
                            "  text-align: center;\n",
                            "  /* unfitted */\n",
                            "  border: var(--sklearn-color-unfitted-level-1) 1pt solid;\n",
                            "  color: var(--sklearn-color-unfitted-level-1);\n",
                            "}\n",
                            "\n",
                            ".sk-estimator-doc-link.fitted,\n",
                            "a:link.sk-estimator-doc-link.fitted,\n",
                            "a:visited.sk-estimator-doc-link.fitted {\n",
                            "  /* fitted */\n",
                            "  border: var(--sklearn-color-fitted-level-1) 1pt solid;\n",
                            "  color: var(--sklearn-color-fitted-level-1);\n",
                            "}\n",
                            "\n",
                            "/* On hover */\n",
                            "div.sk-estimator:hover .sk-estimator-doc-link:hover,\n",
                            ".sk-estimator-doc-link:hover,\n",
                            "div.sk-label-container:hover .sk-estimator-doc-link:hover,\n",
                            ".sk-estimator-doc-link:hover {\n",
                            "  /* unfitted */\n",
                            "  background-color: var(--sklearn-color-unfitted-level-3);\n",
                            "  color: var(--sklearn-color-background);\n",
                            "  text-decoration: none;\n",
                            "}\n",
                            "\n",
                            "div.sk-estimator.fitted:hover .sk-estimator-doc-link.fitted:hover,\n",
                            ".sk-estimator-doc-link.fitted:hover,\n",
                            "div.sk-label-container:hover .sk-estimator-doc-link.fitted:hover,\n",
                            ".sk-estimator-doc-link.fitted:hover {\n",
                            "  /* fitted */\n",
                            "  background-color: var(--sklearn-color-fitted-level-3);\n",
                            "  color: var(--sklearn-color-background);\n",
                            "  text-decoration: none;\n",
                            "}\n",
                            "\n",
                            "/* Span, style for the box shown on hovering the info icon */\n",
                            ".sk-estimator-doc-link span {\n",
                            "  display: none;\n",
                            "  z-index: 9999;\n",
                            "  position: relative;\n",
                            "  font-weight: normal;\n",
                            "  right: .2ex;\n",
                            "  padding: .5ex;\n",
                            "  margin: .5ex;\n",
                            "  width: min-content;\n",
                            "  min-width: 20ex;\n",
                            "  max-width: 50ex;\n",
                            "  color: var(--sklearn-color-text);\n",
                            "  box-shadow: 2pt 2pt 4pt #999;\n",
                            "  /* unfitted */\n",
                            "  background: var(--sklearn-color-unfitted-level-0);\n",
                            "  border: .5pt solid var(--sklearn-color-unfitted-level-3);\n",
                            "}\n",
                            "\n",
                            ".sk-estimator-doc-link.fitted span {\n",
                            "  /* fitted */\n",
                            "  background: var(--sklearn-color-fitted-level-0);\n",
                            "  border: var(--sklearn-color-fitted-level-3);\n",
                            "}\n",
                            "\n",
                            ".sk-estimator-doc-link:hover span {\n",
                            "  display: block;\n",
                            "}\n",
                            "\n",
                            "/* \"?\"-specific style due to the `<a>` HTML tag */\n",
                            "\n",
                            "#sk-container-id-1 a.estimator_doc_link {\n",
                            "  float: right;\n",
                            "  font-size: 1rem;\n",
                            "  line-height: 1em;\n",
                            "  font-family: monospace;\n",
                            "  background-color: var(--sklearn-color-background);\n",
                            "  border-radius: 1rem;\n",
                            "  height: 1rem;\n",
                            "  width: 1rem;\n",
                            "  text-decoration: none;\n",
                            "  /* unfitted */\n",
                            "  color: var(--sklearn-color-unfitted-level-1);\n",
                            "  border: var(--sklearn-color-unfitted-level-1) 1pt solid;\n",
                            "}\n",
                            "\n",
                            "#sk-container-id-1 a.estimator_doc_link.fitted {\n",
                            "  /* fitted */\n",
                            "  border: var(--sklearn-color-fitted-level-1) 1pt solid;\n",
                            "  color: var(--sklearn-color-fitted-level-1);\n",
                            "}\n",
                            "\n",
                            "/* On hover */\n",
                            "#sk-container-id-1 a.estimator_doc_link:hover {\n",
                            "  /* unfitted */\n",
                            "  background-color: var(--sklearn-color-unfitted-level-3);\n",
                            "  color: var(--sklearn-color-background);\n",
                            "  text-decoration: none;\n",
                            "}\n",
                            "\n",
                            "#sk-container-id-1 a.estimator_doc_link.fitted:hover {\n",
                            "  /* fitted */\n",
                            "  background-color: var(--sklearn-color-fitted-level-3);\n",
                            "}\n",
                            "</style><div id=\"sk-container-id-1\" class=\"sk-top-container\"><div class=\"sk-text-repr-fallback\"><pre>LogisticRegression()</pre><b>In a Jupyter environment, please rerun this cell to show the HTML representation or trust the notebook. <br />On GitHub, the HTML representation is unable to render, please try loading this page with nbviewer.org.</b></div><div class=\"sk-container\" hidden><div class=\"sk-item\"><div class=\"sk-estimator fitted sk-toggleable\"><input class=\"sk-toggleable__control sk-hidden--visually\" id=\"sk-estimator-id-1\" type=\"checkbox\" checked><label for=\"sk-estimator-id-1\" class=\"sk-toggleable__label fitted sk-toggleable__label-arrow\"><div><div>LogisticRegression</div></div><div><a class=\"sk-estimator-doc-link fitted\" rel=\"noreferrer\" target=\"_blank\" href=\"https://scikit-learn.org/1.6/modules/generated/sklearn.linear_model.LogisticRegression.html\">?<span>Documentation for LogisticRegression</span></a><span class=\"sk-estimator-doc-link fitted\">i<span>Fitted</span></span></div></label><div class=\"sk-toggleable__content fitted\"><pre>LogisticRegression()</pre></div> </div></div></div></div>"
                        ],
                        "text/plain": [
                            "LogisticRegression()"
                        ]
                    },
                    "execution_count": 22,
                    "metadata": {},
                    "output_type": "execute_result"
                }
            ],
            "source": [
                "# Modelo de regresión logística\n",
                "\n",
                "from sklearn.linear_model import LogisticRegression\n",
                "\n",
                "model = LogisticRegression()\n",
                "model.fit(X_train, y_train)"
            ]
        },
        {
            "cell_type": "code",
            "execution_count": 23,
            "metadata": {},
            "outputs": [],
            "source": [
                "# Predicciones\n",
                "\n",
                "from sklearn.metrics import confusion_matrix, accuracy_score, precision_score, recall_score, f1_score, roc_curve, auc\n",
                "\n",
                "y_pred = model.predict(X_test)\n",
                "y_prob = model.predict_proba(X_test)[:, 1]"
            ]
        },
        {
            "cell_type": "code",
            "execution_count": 24,
            "metadata": {},
            "outputs": [
                {
                    "name": "stdout",
                    "output_type": "stream",
                    "text": [
                        "duration            19.659211\n",
                        "poutcome_success     0.696163\n",
                        "euribor3m           -0.339814\n",
                        "pdays               -0.918179\n",
                        "nr.employed         -3.201644\n",
                        "dtype: float64\n"
                    ]
                }
            ],
            "source": [
                "coef = pd.Series(model.coef_[0], index=X_train.columns)\n",
                "print(coef.sort_values(ascending=False))"
            ]
        },
        {
            "cell_type": "markdown",
            "metadata": {},
            "source": [
                "🧠 ¿Qué significa cada uno?\n",
                "\n",
                "Los coeficientes representan el impacto marginal (log-odds) de cada variable sobre la probabilidad de que y = 1 (es decir, que el cliente sí contrate el depósito).\n",
                "\n",
                "🔼 Coeficientes positivos → aumentan la probabilidad de y = 1:\n",
                "\n",
                "- duration (19.66): mientras más larga fue la llamada, mucho más probable que el cliente diga sí.\n",
                "\n",
                "- ⚠️ Este valor es alto porque duration está escalado (MinMaxScaler).\n",
                "\n",
                "- poutcome_success (0.70): si la campaña previa fue exitosa, hay más chance de éxito ahora.\n",
                "\n",
                "🔽 Coeficientes negativos → disminuyen la probabilidad de y = 1:\n",
                "\n",
                "- euribor3m (-0.34): tasas más altas se asocian con menor probabilidad de contratación.\n",
                "\n",
                "- pdays (-0.92): mientras más días pasaron desde la última campaña, menos probabilidad de éxito.\n",
                "\n",
                "- nr.employed (-3.20): más empleados (indicador económico fuerte) → menor necesidad de ahorro/depósito."
            ]
        },
        {
            "cell_type": "markdown",
            "metadata": {},
            "source": [
                "🧩 Nota sobre `duration`\n",
                "\n",
                "`duration` suele tener una correlación muy fuerte con el target, pero es una variable que no se conoce antes de que el cliente responda, así que:\n",
                "\n",
                "- 🔒 En problemas reales, a menudo se excluye duration del modelo para evitar data leakage."
            ]
        },
        {
            "cell_type": "code",
            "execution_count": 25,
            "metadata": {},
            "outputs": [],
            "source": [
                "# Evaluación\n",
                "\n",
                "conf_matrix = confusion_matrix(y_test, y_pred)\n",
                "accuracy = accuracy_score(y_test, y_pred)\n",
                "precision = precision_score(y_test, y_pred)\n",
                "recall = recall_score(y_test, y_pred)\n",
                "fpr, tpr, thresholds = roc_curve(y_test, y_prob)\n",
                "roc_auc = auc(fpr, tpr)"
            ]
        },
        {
            "cell_type": "code",
            "execution_count": 38,
            "metadata": {},
            "outputs": [
                {
                    "name": "stdout",
                    "output_type": "stream",
                    "text": [
                        "Exactitud: 0.9010\n",
                        "Precisión: 0.6548\n",
                        "Recall: 0.3399\n",
                        "AUC: 0.9110\n"
                    ]
                }
            ],
            "source": [
                "# Resultados\n",
                "\n",
                "print(f'Exactitud: {accuracy:.4f}') # qué proporción de predicciones fueron correctas\n",
                "print(f'Precisión: {precision:.4f}') # de todas las veces que el modelo dijo \"sí\", ¿cuántas fueron realmente \"sí\"?\n",
                "print(f'Recall: {recall:.4f}') # de todos los casos reales \"sí\", ¿cuántos encontró el modelo?\n",
                "print(f'AUC: {roc_auc:.4f}') # área bajo la curva ROC, que mide la capacidad del modelo para distinguir entre clases"
            ]
        },
        {
            "cell_type": "markdown",
            "metadata": {},
            "source": [
                "📌 Interpretación:\n",
                "\n",
                "- ✅ AUC = 0.91 → Excelente capacidad del modelo para distinguir entre clases.\n",
                "\n",
                "- ✅ Exactitud = 0.90 → Muy alta, pero ojo...\n",
                "\n",
                "- ⚠️ Recall = 0.34 → El modelo está fallando al detectar muchos positivos.\n",
                "\n",
                "- ⚠️ Precisión = 0.65 → Cuando predice \"sí\", acierta un 65% de las veces.\n",
                "\n",
                "Esto es típico cuando:\n",
                "\n",
                "- La clase positiva (y=1) es minoritaria (desbalance de clases).\n",
                "\n",
                "- El modelo prefiere predecir “no” para maximizar la exactitud."
            ]
        },
        {
            "cell_type": "code",
            "execution_count": 27,
            "metadata": {},
            "outputs": [
                {
                    "data": {
                        "image/png": "[encoded data removed]",
                        "text/plain": [
                            "<Figure size 400x300 with 1 Axes>"
                        ]
                    },
                    "metadata": {},
                    "output_type": "display_data"
                }
            ],
            "source": [
                "# Calcular la matriz de confusión\n",
                "conf_matrix = confusion_matrix(y_test, y_pred)\n",
                "\n",
                "# Visualizar con heatmap\n",
                "plt.figure(figsize=(4, 3))\n",
                "sns.heatmap(conf_matrix, annot=True, fmt=\"d\", cmap=\"Blues\", cbar=False,\n",
                "            xticklabels=[\"No\", \"Sí\"], yticklabels=[\"No\", \"Sí\"])\n",
                "plt.xlabel(\"Predicción\")\n",
                "plt.ylabel(\"Real\")\n",
                "plt.title(\"Matriz de Confusión\")\n",
                "plt.tight_layout()\n",
                "plt.show()"
            ]
        },
        {
            "cell_type": "markdown",
            "metadata": {},
            "source": [
                "🧠 ¿Qué dice esto?\n",
                "\n",
                "- El modelo es muy bueno prediciendo los \"No\" (alta especificidad).\n",
                "\n",
                "- Pero está fallando en detectar los \"Sí\" (recall bajo).\n",
                "\n",
                "- Hay problemas de desbalance de clases."
            ]
        },
        {
            "cell_type": "code",
            "execution_count": 41,
            "metadata": {},
            "outputs": [
                {
                    "data": {
                        "image/png": "[encoded data removed]",
                        "text/plain": [
                            "<Figure size 600x400 with 1 Axes>"
                        ]
                    },
                    "metadata": {},
                    "output_type": "display_data"
                }
            ],
            "source": [
                "# Curva ROC\n",
                "\n",
                "plt.figure(figsize=(6, 4))\n",
                "plt.plot(fpr, tpr, color=\"blue\", label=f\"ROC curve (AUC = {roc_auc:.4f})\")\n",
                "plt.plot([0, 1], [0, 1], color=\"gray\", linestyle=\"--\", label=\"Aleatorio\")\n",
                "plt.xlabel(\"Tasa de Falsos Positivos (FPR)\")\n",
                "plt.ylabel(\"Tasa de Verdaderos Positivos (TPR)\")\n",
                "plt.title(\"Curva ROC\")\n",
                "plt.legend(loc=\"lower right\")\n",
                "plt.grid(True)\n",
                "plt.tight_layout()\n",
                "plt.show()"
            ]
        },
        {
            "cell_type": "markdown",
            "metadata": {},
            "source": [
                "## Paso 6: Optimización del modelo"
            ]
        },
        {
            "cell_type": "code",
            "execution_count": 29,
            "metadata": {},
            "outputs": [
                {
                    "name": "stdout",
                    "output_type": "stream",
                    "text": [
                        "Fitting 5 folds for each of 140 candidates, totalling 700 fits\n",
                        "✅ Mejores hiperparámetros: {'C': 0.001, 'penalty': None, 'solver': 'lbfgs'}\n",
                        "🎯 Mejor AUC: 0.9211\n"
                    ]
                }
            ],
            "source": [
                "from sklearn.model_selection import GridSearchCV\n",
                "import warnings\n",
                "\n",
                "# Evitar que se impriman advertencias innecesarias (pero no silenciar errores críticos)\n",
                "warnings.filterwarnings(\"ignore\")\n",
                "\n",
                "# Definimos los hiperparámetros y sus posibles valores\n",
                "\n",
                "hyperparams = {\n",
                "    \"C\": [0.001, 0.01, 0.1, 1, 10, 100, 1000],\n",
                "    \"penalty\": [\"l1\", \"l2\", \"elasticnet\", None],\n",
                "    \"solver\": [\"newton-cg\", \"lbfgs\", \"liblinear\", \"sag\", \"saga\"]\n",
                "}\n",
                "\n",
                "# Inicializar GridSearchCV\n",
                "grid = GridSearchCV(estimator=model,\n",
                "                    param_grid=hyperparams,\n",
                "                    scoring=\"roc_auc\",\n",
                "                    cv=5,\n",
                "                    n_jobs=-1,\n",
                "                    verbose=1)\n",
                "\n",
                "# Ajustar el modelo\n",
                "grid.fit(X_train, y_train)\n",
                "\n",
                "# Resultados\n",
                "print(\"✅ Mejores hiperparámetros:\", grid.best_params_)\n",
                "print(\"🎯 Mejor AUC:\", round(grid.best_score_, 4))"
            ]
        },
        {
            "cell_type": "code",
            "execution_count": 34,
            "metadata": {},
            "outputs": [],
            "source": [
                "# Reentrenar el modelo con los mejores hiperparámetros\n",
                "\n",
                "best_model = LogisticRegression(C=0.001, penalty=None, solver=\"lbfgs\", max_iter=1000)\n",
                "best_model.fit(X_train, y_train)\n",
                "\n",
                "y_pred_best = best_model.predict(X_test)\n",
                "y_prob_best = best_model.predict_proba(X_test)[:, 1]"
            ]
        },
        {
            "cell_type": "code",
            "execution_count": null,
            "metadata": {},
            "outputs": [],
            "source": [
                "# Evaluación - Best Model\n",
                "\n",
                "conf_matrix_best = confusion_matrix(y_test, y_pred_best)\n",
                "accuracy_best = accuracy_score(y_test, y_pred_best)\n",
                "precision_best = precision_score(y_test, y_pred_best)\n",
                "recall_best = recall_score(y_test, y_pred_best)\n",
                "fpr_best, tpr_best, thresholds_best = roc_curve(y_test, y_prob_best)\n",
                "roc_auc_best = auc(fpr_best, tpr_best)"
            ]
        },
        {
            "cell_type": "code",
            "execution_count": null,
            "metadata": {},
            "outputs": [
                {
                    "name": "stdout",
                    "output_type": "stream",
                    "text": [
                        "Exactitud: 0.9023\n",
                        "Precisión: 0.6543\n",
                        "Recall: 0.3625\n",
                        "AUC: 0.9128\n"
                    ]
                }
            ],
            "source": [
                "# Resultados - Best Model\n",
                "\n",
                "print(f'Exactitud: {accuracy_best:.4f}') \n",
                "print(f'Precisión: {precision_best:.4f}') \n",
                "print(f'Recall: {recall_best:.4f}') \n",
                "print(f'AUC: {roc_auc_best:.4f}')"
            ]
        },
        {
            "cell_type": "code",
            "execution_count": null,
            "metadata": {},
            "outputs": [
                {
                    "data": {
                        "image/png": "[encoded data removed]",
                        "text/plain": [
                            "<Figure size 400x300 with 1 Axes>"
                        ]
                    },
                    "metadata": {},
                    "output_type": "display_data"
                }
            ],
            "source": [
                "# Calcular la matriz de confusión - Best Model\n",
                "conf_matrix_best = confusion_matrix(y_test, y_pred_best)\n",
                "\n",
                "# Visualizar con heatmap - Best Model\n",
                "plt.figure(figsize=(4, 3))\n",
                "sns.heatmap(conf_matrix_best, annot=True, fmt=\"d\", cmap=\"Blues\", cbar=False,\n",
                "            xticklabels=[\"No\", \"Sí\"], yticklabels=[\"No\", \"Sí\"])\n",
                "plt.xlabel(\"Predicción\")\n",
                "plt.ylabel(\"Real\")\n",
                "plt.title(\"Matriz de Confusión - Best Model\")\n",
                "plt.tight_layout()\n",
                "plt.show()"
            ]
        },
        {
            "cell_type": "code",
            "execution_count": 43,
            "metadata": {},
            "outputs": [
                {
                    "data": {
                        "image/png": "[encoded data removed]",
                        "text/plain": [
                            "<Figure size 600x400 with 1 Axes>"
                        ]
                    },
                    "metadata": {},
                    "output_type": "display_data"
                }
            ],
            "source": [
                "# Curva ROC - Best Model\n",
                "\n",
                "plt.figure(figsize=(6, 4))\n",
                "plt.plot(fpr_best, tpr_best, color=\"blue\", label=f\"ROC curve (AUC = {roc_auc_best:.4f})\")\n",
                "plt.plot([0, 1], [0, 1], color=\"gray\", linestyle=\"--\", label=\"Aleatorio\")\n",
                "plt.xlabel(\"Tasa de Falsos Positivos (FPR)\")\n",
                "plt.ylabel(\"Tasa de Verdaderos Positivos (TPR)\")\n",
                "plt.title(\"Curva ROC - Best Model\")\n",
                "plt.legend(loc=\"lower right\")\n",
                "plt.grid(True)\n",
                "plt.tight_layout()\n",
                "plt.show()"
            ]
        },
        {
            "cell_type": "code",
            "execution_count": 44,
            "metadata": {},
            "outputs": [
                {
                    "name": "stdout",
                    "output_type": "stream",
                    "text": [
                        "✅ Modelo guardado correctamente.\n"
                    ]
                }
            ],
            "source": [
                "import pickle\n",
                "\n",
                "# Ruta donde guardar el modelo\n",
                "ruta_modelo = \"C:/Users/Efrain Almeida/Documents/4Geeks Academy/02 Proyectos/efrainnalmeida-my-first-ml-algorithm/models/logistic_model.pkl\"\n",
                "\n",
                "# Guardar el modelo\n",
                "with open(ruta_modelo, \"wb\") as file:\n",
                "    pickle.dump(best_model, file)\n",
                "\n",
                "print(\"✅ Modelo guardado correctamente.\")"
            ]
        }
    ],
    "metadata": {
        "kernelspec": {
            "display_name": "env1",
            "language": "python",
            "name": "python3"
        },
        "language_info": {
            "codemirror_mode": {
                "name": "ipython",
                "version": 3
            },
            "file_extension": ".py",
            "mimetype": "text/x-python",
            "name": "python",
            "nbconvert_exporter": "python",
            "pygments_lexer": "ipython3",
            "version": "3.13.2"
        },
        "orig_nbformat": 4
    },
    "nbformat": 4,
    "nbformat_minor": 2
}
